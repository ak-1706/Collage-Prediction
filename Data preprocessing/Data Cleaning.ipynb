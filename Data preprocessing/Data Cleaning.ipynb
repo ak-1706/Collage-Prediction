{
 "cells": [
  {
   "cell_type": "markdown",
   "metadata": {},
   "source": [
    "# Data Cleaning"
   ]
  },
  {
   "cell_type": "code",
   "execution_count": 31,
   "metadata": {},
   "outputs": [],
   "source": [
    "import pandas as pd\n",
    "import numpy as np"
   ]
  },
  {
   "cell_type": "code",
   "execution_count": 32,
   "metadata": {},
   "outputs": [
    {
     "data": {
      "text/html": [
       "<div>\n",
       "<style scoped>\n",
       "    .dataframe tbody tr th:only-of-type {\n",
       "        vertical-align: middle;\n",
       "    }\n",
       "\n",
       "    .dataframe tbody tr th {\n",
       "        vertical-align: top;\n",
       "    }\n",
       "\n",
       "    .dataframe thead th {\n",
       "        text-align: right;\n",
       "    }\n",
       "</style>\n",
       "<table border=\"1\" class=\"dataframe\">\n",
       "  <thead>\n",
       "    <tr style=\"text-align: right;\">\n",
       "      <th></th>\n",
       "      <th>Unnamed: 0</th>\n",
       "      <th>Unnamed: 0.1</th>\n",
       "      <th>Unnamed: 0.1.1</th>\n",
       "      <th>Sr.No.</th>\n",
       "      <th>Merit No</th>\n",
       "      <th>Marks</th>\n",
       "      <th>Application ID</th>\n",
       "      <th>Name of Candidate</th>\n",
       "      <th>Gender</th>\n",
       "      <th>Category</th>\n",
       "      <th>PWD/DEF</th>\n",
       "      <th>Sub Group</th>\n",
       "      <th>Seat Type</th>\n",
       "      <th>cource_code</th>\n",
       "      <th>college_code</th>\n",
       "    </tr>\n",
       "  </thead>\n",
       "  <tbody>\n",
       "    <tr>\n",
       "      <th>0</th>\n",
       "      <td>0</td>\n",
       "      <td>0</td>\n",
       "      <td>0</td>\n",
       "      <td>1</td>\n",
       "      <td>60</td>\n",
       "      <td>95.13%</td>\n",
       "      <td>DSE19106856</td>\n",
       "      <td>PAWAR SIDDHI RAVINDRASINGH</td>\n",
       "      <td>F</td>\n",
       "      <td>OPEN</td>\n",
       "      <td>NaN</td>\n",
       "      <td>201</td>\n",
       "      <td>^LOPEN</td>\n",
       "      <td>201</td>\n",
       "      <td>1002</td>\n",
       "    </tr>\n",
       "    <tr>\n",
       "      <th>1</th>\n",
       "      <td>1</td>\n",
       "      <td>1</td>\n",
       "      <td>1</td>\n",
       "      <td>2</td>\n",
       "      <td>213</td>\n",
       "      <td>93.38%</td>\n",
       "      <td>DSE19126045</td>\n",
       "      <td>MAHALLE SHRADDHA MOHANRAO</td>\n",
       "      <td>F</td>\n",
       "      <td>OBC</td>\n",
       "      <td>NaN</td>\n",
       "      <td>201</td>\n",
       "      <td>^GOPEN</td>\n",
       "      <td>201</td>\n",
       "      <td>1002</td>\n",
       "    </tr>\n",
       "    <tr>\n",
       "      <th>2</th>\n",
       "      <td>2</td>\n",
       "      <td>2</td>\n",
       "      <td>2</td>\n",
       "      <td>3</td>\n",
       "      <td>384</td>\n",
       "      <td>92.47%</td>\n",
       "      <td>DSE19105661</td>\n",
       "      <td>TUSHAR RAJESH LAHANE</td>\n",
       "      <td>M</td>\n",
       "      <td>OBC</td>\n",
       "      <td>NaN</td>\n",
       "      <td>201</td>\n",
       "      <td>#GOBC</td>\n",
       "      <td>201</td>\n",
       "      <td>1002</td>\n",
       "    </tr>\n",
       "    <tr>\n",
       "      <th>3</th>\n",
       "      <td>3</td>\n",
       "      <td>3</td>\n",
       "      <td>3</td>\n",
       "      <td>4</td>\n",
       "      <td>420</td>\n",
       "      <td>92.31%</td>\n",
       "      <td>DSE19103256</td>\n",
       "      <td>RAUT PALASH SUBHASH</td>\n",
       "      <td>M</td>\n",
       "      <td>OBC</td>\n",
       "      <td>NaN</td>\n",
       "      <td>201</td>\n",
       "      <td>^GOBC</td>\n",
       "      <td>201</td>\n",
       "      <td>1002</td>\n",
       "    </tr>\n",
       "    <tr>\n",
       "      <th>4</th>\n",
       "      <td>4</td>\n",
       "      <td>4</td>\n",
       "      <td>4</td>\n",
       "      <td>5</td>\n",
       "      <td>846</td>\n",
       "      <td>90.79%</td>\n",
       "      <td>DSE19148502</td>\n",
       "      <td>BIRAJDAR SAURABH DAYANAND</td>\n",
       "      <td>M</td>\n",
       "      <td>SEBC</td>\n",
       "      <td>NaN</td>\n",
       "      <td>201</td>\n",
       "      <td>*GSEBC</td>\n",
       "      <td>201</td>\n",
       "      <td>1002</td>\n",
       "    </tr>\n",
       "  </tbody>\n",
       "</table>\n",
       "</div>"
      ],
      "text/plain": [
       "   Unnamed: 0  Unnamed: 0.1  Unnamed: 0.1.1  Sr.No. Merit No   Marks  \\\n",
       "0           0             0               0       1       60  95.13%   \n",
       "1           1             1               1       2      213  93.38%   \n",
       "2           2             2               2       3      384  92.47%   \n",
       "3           3             3               3       4      420  92.31%   \n",
       "4           4             4               4       5      846  90.79%   \n",
       "\n",
       "  Application ID           Name of Candidate Gender Category PWD/DEF  \\\n",
       "0    DSE19106856  PAWAR SIDDHI RAVINDRASINGH      F     OPEN     NaN   \n",
       "1    DSE19126045   MAHALLE SHRADDHA MOHANRAO      F      OBC     NaN   \n",
       "2    DSE19105661        TUSHAR RAJESH LAHANE      M      OBC     NaN   \n",
       "3    DSE19103256         RAUT PALASH SUBHASH      M      OBC     NaN   \n",
       "4    DSE19148502   BIRAJDAR SAURABH DAYANAND      M     SEBC     NaN   \n",
       "\n",
       "  Sub Group Seat Type  cource_code  college_code  \n",
       "0       201    ^LOPEN          201          1002  \n",
       "1       201    ^GOPEN          201          1002  \n",
       "2       201     #GOBC          201          1002  \n",
       "3       201     ^GOBC          201          1002  \n",
       "4       201    *GSEBC          201          1002  "
      ]
     },
     "execution_count": 32,
     "metadata": {},
     "output_type": "execute_result"
    }
   ],
   "source": [
    "dataframe=pd.read_csv(\"../final data/cap-1 student info.csv\")\n",
    "dataframe.head()"
   ]
  },
  {
   "cell_type": "code",
   "execution_count": 33,
   "metadata": {},
   "outputs": [],
   "source": [
    "dataframe.drop([\"Unnamed: 0\",\"Unnamed: 0.1\",\"Unnamed: 0.1.1\"],axis=1,inplace=True)"
   ]
  },
  {
   "cell_type": "markdown",
   "metadata": {},
   "source": [
    "## Feature clearing"
   ]
  },
  {
   "cell_type": "markdown",
   "metadata": {},
   "source": [
    "### Feature [\"Mert No\"]"
   ]
  },
  {
   "cell_type": "markdown",
   "metadata": {},
   "source": [
    "Marks have some vacant anoted by \"-\" they showd be convertd as 0  "
   ]
  },
  {
   "cell_type": "code",
   "execution_count": 34,
   "metadata": {},
   "outputs": [],
   "source": [
    "dataframe[\"Merit No\"]=dataframe[\"Merit No\"].astype(str)\n",
    "vacent_entres=dataframe[dataframe[\"Merit No\"]==\"-\"].index.values\n",
    "dataframe.iloc[vacent_entres]=0"
   ]
  },
  {
   "cell_type": "markdown",
   "metadata": {},
   "source": [
    "The feature mert no have all the integer feature it shoud be integer"
   ]
  },
  {
   "cell_type": "code",
   "execution_count": 35,
   "metadata": {},
   "outputs": [],
   "source": [
    "dataframe[\"Merit No\"] = pd.to_numeric(dataframe[\"Merit No\"], errors='coerce').fillna(0).astype(np.int64)"
   ]
  },
  {
   "cell_type": "markdown",
   "metadata": {},
   "source": [
    "### Feature [Marks]"
   ]
  },
  {
   "cell_type": "markdown",
   "metadata": {},
   "source": [
    "The marks in format of % eg 80.0% they should converted as 80.0 "
   ]
  },
  {
   "cell_type": "code",
   "execution_count": 36,
   "metadata": {},
   "outputs": [],
   "source": [
    "dataframe[\"Marks\"]=dataframe[\"Marks\"].astype(str)"
   ]
  },
  {
   "cell_type": "code",
   "execution_count": 37,
   "metadata": {},
   "outputs": [
    {
     "data": {
      "text/plain": [
       "75031"
      ]
     },
     "execution_count": 37,
     "metadata": {},
     "output_type": "execute_result"
    }
   ],
   "source": [
    "length=dataframe.shape\n",
    "length[0]"
   ]
  },
  {
   "cell_type": "markdown",
   "metadata": {},
   "source": [
    "removig %"
   ]
  },
  {
   "cell_type": "code",
   "execution_count": 38,
   "metadata": {},
   "outputs": [
    {
     "name": "stderr",
     "output_type": "stream",
     "text": [
      "C:\\Users\\sai\\anaconda3\\lib\\site-packages\\pandas\\core\\indexing.py:670: SettingWithCopyWarning: \n",
      "A value is trying to be set on a copy of a slice from a DataFrame\n",
      "\n",
      "See the caveats in the documentation: https://pandas.pydata.org/pandas-docs/stable/user_guide/indexing.html#returning-a-view-versus-a-copy\n",
      "  self._setitem_with_indexer(indexer, value)\n"
     ]
    }
   ],
   "source": [
    "for i in range(length[0]):\n",
    "    data=dataframe[\"Marks\"].iloc[i]\n",
    "    if data!=0:\n",
    "        data=''.join([ word for word  in data if word.isdigit() or word==\".\"])\n",
    "        dataframe[\"Marks\"].iloc[i]=data"
   ]
  },
  {
   "cell_type": "code",
   "execution_count": 39,
   "metadata": {},
   "outputs": [],
   "source": [
    "dataframe[\"Marks\"] = pd.to_numeric(dataframe[\"Marks\"], errors='coerce').fillna(0).astype(np.float64)"
   ]
  },
  {
   "cell_type": "markdown",
   "metadata": {},
   "source": [
    "### Feature [Application Id]"
   ]
  },
  {
   "cell_type": "markdown",
   "metadata": {},
   "source": [
    "The application id is only the feature that can uniqly identify student bot the application id is in format DSE12458. if move remove [DSE] from the if goood o have id as Integer"
   ]
  },
  {
   "cell_type": "code",
   "execution_count": 40,
   "metadata": {},
   "outputs": [],
   "source": [
    "dataframe[\"Application ID\"]=dataframe[\"Application ID\"].astype(str)"
   ]
  },
  {
   "cell_type": "code",
   "execution_count": 41,
   "metadata": {},
   "outputs": [],
   "source": [
    "for i in range(length[0]):\n",
    "    data=dataframe[\"Application ID\"].iloc[i]\n",
    "    if  data !=0:\n",
    "        data=''.join([word for word in data if  word.isdigit()])\n",
    "        dataframe[\"Application ID\"].iloc[i]=data"
   ]
  },
  {
   "cell_type": "code",
   "execution_count": 42,
   "metadata": {},
   "outputs": [],
   "source": [
    "dataframe[\"Application ID\"] = pd.to_numeric(dataframe[\"Application ID\"], errors='coerce').fillna(0).astype(np.int64)"
   ]
  },
  {
   "cell_type": "markdown",
   "metadata": {},
   "source": [
    "### Feature [Seat Type]"
   ]
  },
  {
   "cell_type": "markdown",
   "metadata": {},
   "source": [
    "The feature seat type contain the spacial symobols witch can affect model.It better to remove the symboles"
   ]
  },
  {
   "cell_type": "code",
   "execution_count": 43,
   "metadata": {},
   "outputs": [],
   "source": [
    "dataframe[\"Seat Type\"]=dataframe[\"Seat Type\"].astype(str)"
   ]
  },
  {
   "cell_type": "code",
   "execution_count": 44,
   "metadata": {},
   "outputs": [],
   "source": [
    "for i in range(length[0]):\n",
    "    data=dataframe[\"Seat Type\"].iloc[i]\n",
    "    if data!=0:\n",
    "        data=''.join([word for word in data if word.isalpha()])\n",
    "        dataframe[\"Seat Type\"].iloc[i]=data"
   ]
  },
  {
   "cell_type": "code",
   "execution_count": 45,
   "metadata": {},
   "outputs": [
    {
     "data": {
      "text/plain": [
       "array(['LOPEN', 'GOPEN', 'GOBC', 'GSEBC', 'LSC', 'EWS', 'LST', 'GSC', '',\n",
       "       'LOBC', 'GST', 'GNTD', 'LSEBC', 'LNTC', 'PHOBC', 'LNTB', 'MI',\n",
       "       'GNTB', 'GNTC', 'GNTA', 'LNTA', 'DFSC', 'LNTD', 'PHO', 'DFSEBC',\n",
       "       'DFO', 'PHSC', 'DFOBC', 'DFNTC', 'DFNTD', 'PHNTC', 'PHSEBC',\n",
       "       'PHNTB', 'PHNTA', 'DFST', 'DFNTB', 'PHNTD'], dtype=object)"
      ]
     },
     "execution_count": 45,
     "metadata": {},
     "output_type": "execute_result"
    }
   ],
   "source": [
    "dataframe[\"Seat Type\"].unique()"
   ]
  },
  {
   "cell_type": "markdown",
   "metadata": {},
   "source": [
    "### Feature [Category]"
   ]
  },
  {
   "cell_type": "markdown",
   "metadata": {},
   "source": [
    "The feature invalid symboles"
   ]
  },
  {
   "cell_type": "code",
   "execution_count": 46,
   "metadata": {},
   "outputs": [],
   "source": [
    "for i in range(length[0]):\n",
    "    data=dataframe[\"Category\"].iloc[i]\n",
    "    if data!=0:\n",
    "        data=''.join([word for word in data if word.isalpha() or word.isdigit() or word == \"/\" or word==\"(\" or word==\")\"])\n",
    "        dataframe[\"Category\"].iloc[i]=data"
   ]
  },
  {
   "cell_type": "code",
   "execution_count": 47,
   "metadata": {},
   "outputs": [
    {
     "data": {
      "text/plain": [
       "array(['OPEN', 'OBC', 'SEBC', 'SC', 'OPEN/EWS', 'ST', 'NT1(NTB)', 0,\n",
       "       'NT3(NTD)', 'NT2(NTC)', 'SBC/OBC', 'DT/VJNT(A)', 'SBC', '0'],\n",
       "      dtype=object)"
      ]
     },
     "execution_count": 47,
     "metadata": {},
     "output_type": "execute_result"
    }
   ],
   "source": [
    "dataframe[\"Category\"].unique()"
   ]
  },
  {
   "cell_type": "code",
   "execution_count": 48,
   "metadata": {},
   "outputs": [],
   "source": [
    "category_unique=dict({\n",
    "    \"OPEN\":\"OPEN\",\n",
    "    \"OBC\":\"OBC\",\n",
    "    \"SEBC\":\"SEBC\",\n",
    "    \"SC\":\"SC\",\n",
    "    \"OPEN/EWS\":\"OPEN/EWS\",\n",
    "    \"ST\":\"ST\",\n",
    "    \"NT1(NTB)\":\"NT1\",\n",
    "    \"NT2(NTC)\":\"NT2\",\n",
    "    \"NT3(NTD)\":\"NT3\",\n",
    "    \"SBC/OBC\":\"SBC/OBC\",\n",
    "    \"DT/VJNT(A)\":\"DT/VJNT(A)\",\n",
    "    \"SBC\":\"SBC\"\n",
    "})\n",
    "\n",
    "dataframe[\"Category\"]=dataframe[\"Category\"].map(category_unique)"
   ]
  },
  {
   "cell_type": "code",
   "execution_count": 49,
   "metadata": {},
   "outputs": [
    {
     "data": {
      "text/plain": [
       "array(['OPEN', 'OBC', 'SEBC', 'SC', 'OPEN/EWS', 'ST', 'NT1', nan, 'NT3',\n",
       "       'NT2', 'SBC/OBC', 'DT/VJNT(A)', 'SBC'], dtype=object)"
      ]
     },
     "execution_count": 49,
     "metadata": {},
     "output_type": "execute_result"
    }
   ],
   "source": [
    "dataframe[\"Category\"].unique()"
   ]
  },
  {
   "cell_type": "code",
   "execution_count": 50,
   "metadata": {},
   "outputs": [],
   "source": [
    "category_unique=dict({\n",
    "    \"OPEN\":1,\n",
    "    \"OBC\":2,\n",
    "    \"SEBC\":3,\n",
    "    \"SC\":4,\n",
    "    \"OPEN/EWS\":5,\n",
    "    \"ST\":6,\n",
    "    \"NT1\":7,\n",
    "    \"NT2\":8,\n",
    "    \"NT3\":9,\n",
    "    \"SBC/OBC\":10,\n",
    "    \"DT/VJNT(A)\":11,\n",
    "    \"SBC\":12\n",
    "})\n",
    "dataframe[\"Category id\"]=dataframe[\"Category\"].map(category_unique)"
   ]
  },
  {
   "cell_type": "code",
   "execution_count": 68,
   "metadata": {},
   "outputs": [],
   "source": [
    "dataframe[\"Category id\"] = pd.to_numeric(dataframe[\"Category id\"], errors='coerce').fillna(0).astype(np.int64)"
   ]
  },
  {
   "cell_type": "code",
   "execution_count": 51,
   "metadata": {},
   "outputs": [
    {
     "data": {
      "text/plain": [
       "array([ 1.,  2.,  3.,  4.,  5.,  6.,  7., nan,  9.,  8., 10., 11., 12.])"
      ]
     },
     "execution_count": 51,
     "metadata": {},
     "output_type": "execute_result"
    }
   ],
   "source": [
    "dataframe[\"Category id\"].unique()"
   ]
  },
  {
   "cell_type": "markdown",
   "metadata": {},
   "source": [
    "###  Feature [Gender]"
   ]
  },
  {
   "cell_type": "code",
   "execution_count": 52,
   "metadata": {},
   "outputs": [],
   "source": [
    "dataframe[\"Gender\"]=dataframe[\"Gender\"].astype(str)"
   ]
  },
  {
   "cell_type": "markdown",
   "metadata": {},
   "source": [
    "### Feature [PWD/DEF]"
   ]
  },
  {
   "cell_type": "markdown",
   "metadata": {},
   "source": [
    "PWD/DEF invalis carater such as /n /r"
   ]
  },
  {
   "cell_type": "code",
   "execution_count": 53,
   "metadata": {},
   "outputs": [
    {
     "data": {
      "text/plain": [
       "array([nan, 0, 'Low-Vision', 'DEF1', 'Locomotor \\r\\nDisability',\n",
       "       'Physical \\r\\nimpairment', 'DEF2', 'Hard of \\r\\nHearing',\n",
       "       'Thalassemia', '0', 'Specific \\r\\nLearning \\r\\nDisabilities',\n",
       "       'Cerebral \\r\\nPalsy', 'Blindness', 'DEF3', 'Haemophilia',\n",
       "       'Muscular \\r\\nDystrophy', 'Physical \\r\\nimpairment/DEF1', 'Deaf',\n",
       "       'Intellectual \\r\\nDisability'], dtype=object)"
      ]
     },
     "execution_count": 53,
     "metadata": {},
     "output_type": "execute_result"
    }
   ],
   "source": [
    "dataframe[\"PWD/DEF\"].unique()"
   ]
  },
  {
   "cell_type": "code",
   "execution_count": 64,
   "metadata": {},
   "outputs": [],
   "source": [
    "pwd_def=dict({\n",
    "  \"Locomotor \\r\\nDisability\":\"Locomotor Disability\",\n",
    "  \"Physical \\r\\nimpairment\":\"Physical impairment\",\n",
    "  \"Hard of \\r\\nHearing\":\"Hard of Hearing\",\n",
    "  \"Specific \\r\\nLearning \\r\\nDisabilities\":\"Specific Learning Disabilities\",\n",
    "  \"Cerebral \\r\\nPalsy\":\"Cerebral Palsy\",\n",
    "  \"Muscular \\r\\nDystrophy\":\"Muscular Dystrophy\",\n",
    "  \"Physical \\r\\nimpairment/DEF1\":\"Physical impairment DEF1\",\n",
    "  \"Intellectual \\r\\nDisability\":\"Intellectual Disability\"\n",
    "})\n",
    "dataframe[\"PWD/DEF\"]=dataframe[\"PWD/DEF\"].map(pwd_def)"
   ]
  },
  {
   "cell_type": "code",
   "execution_count": 65,
   "metadata": {},
   "outputs": [
    {
     "data": {
      "text/plain": [
       "array([nan, 'Locomotor Disability', 'Physical impairment',\n",
       "       'Hard of Hearing', 'Specific Learning Disabilities',\n",
       "       'Cerebral Palsy', 'Muscular Dystrophy', 'Physical impairment DEF1',\n",
       "       'Intellectual Disability'], dtype=object)"
      ]
     },
     "execution_count": 65,
     "metadata": {},
     "output_type": "execute_result"
    }
   ],
   "source": [
    "dataframe[\"PWD/DEF\"].unique()"
   ]
  },
  {
   "cell_type": "markdown",
   "metadata": {},
   "source": [
    "### Feature [Sub Group]"
   ]
  },
  {
   "cell_type": "code",
   "execution_count": 81,
   "metadata": {},
   "outputs": [
    {
     "data": {
      "text/plain": [
       "''"
      ]
     },
     "execution_count": 81,
     "metadata": {},
     "output_type": "execute_result"
    }
   ],
   "source": [
    "str1=\"0402\"\n",
    "str1[]"
   ]
  },
  {
   "cell_type": "markdown",
   "metadata": {},
   "source": [
    "### Add College Name"
   ]
  },
  {
   "cell_type": "markdown",
   "metadata": {},
   "source": [
    "The data scource only have college code we have to add collage name"
   ]
  },
  {
   "cell_type": "code",
   "execution_count": 56,
   "metadata": {},
   "outputs": [
    {
     "data": {
      "text/html": [
       "<div>\n",
       "<style scoped>\n",
       "    .dataframe tbody tr th:only-of-type {\n",
       "        vertical-align: middle;\n",
       "    }\n",
       "\n",
       "    .dataframe tbody tr th {\n",
       "        vertical-align: top;\n",
       "    }\n",
       "\n",
       "    .dataframe thead th {\n",
       "        text-align: right;\n",
       "    }\n",
       "</style>\n",
       "<table border=\"1\" class=\"dataframe\">\n",
       "  <thead>\n",
       "    <tr style=\"text-align: right;\">\n",
       "      <th></th>\n",
       "      <th>Institute Name</th>\n",
       "    </tr>\n",
       "    <tr>\n",
       "      <th>Institute Code</th>\n",
       "      <th></th>\n",
       "    </tr>\n",
       "  </thead>\n",
       "  <tbody>\n",
       "    <tr>\n",
       "      <th>1002</th>\n",
       "      <td>Government College of Engineering, Amravati</td>\n",
       "    </tr>\n",
       "    <tr>\n",
       "      <th>1005</th>\n",
       "      <td>Sant Gadge Baba Amravati University,Amravati</td>\n",
       "    </tr>\n",
       "    <tr>\n",
       "      <th>1012</th>\n",
       "      <td>Government Engineering College, Yavatmal</td>\n",
       "    </tr>\n",
       "    <tr>\n",
       "      <th>1101</th>\n",
       "      <td>Shri Sant Gajanan Maharaj College of Engineeri...</td>\n",
       "    </tr>\n",
       "    <tr>\n",
       "      <th>1105</th>\n",
       "      <td>Prof. Ram Meghe Institute of Technology &amp; Rese...</td>\n",
       "    </tr>\n",
       "  </tbody>\n",
       "</table>\n",
       "</div>"
      ],
      "text/plain": [
       "                                                   Institute Name\n",
       "Institute Code                                                   \n",
       "1002                  Government College of Engineering, Amravati\n",
       "1005                 Sant Gadge Baba Amravati University,Amravati\n",
       "1012                     Government Engineering College, Yavatmal\n",
       "1101            Shri Sant Gajanan Maharaj College of Engineeri...\n",
       "1105            Prof. Ram Meghe Institute of Technology & Rese..."
      ]
     },
     "execution_count": 56,
     "metadata": {},
     "output_type": "execute_result"
    }
   ],
   "source": [
    "college_data=pd.read_csv(\"../final data/college maping.csv\",index_col=[\"Institute Code\"],usecols=None,)\n",
    "college_data.drop([\"Unnamed: 0\"],axis=1,inplace=True)\n",
    "college_data.head()"
   ]
  },
  {
   "cell_type": "code",
   "execution_count": 57,
   "metadata": {},
   "outputs": [],
   "source": [
    "data=college_data.to_dict()\n",
    "data=data['Institute Name']"
   ]
  },
  {
   "cell_type": "code",
   "execution_count": 58,
   "metadata": {},
   "outputs": [],
   "source": [
    "dataframe[\"Institute Name\"]=dataframe[\"college_code\"].map(data)"
   ]
  },
  {
   "cell_type": "code",
   "execution_count": 59,
   "metadata": {},
   "outputs": [
    {
     "data": {
      "text/html": [
       "<div>\n",
       "<style scoped>\n",
       "    .dataframe tbody tr th:only-of-type {\n",
       "        vertical-align: middle;\n",
       "    }\n",
       "\n",
       "    .dataframe tbody tr th {\n",
       "        vertical-align: top;\n",
       "    }\n",
       "\n",
       "    .dataframe thead th {\n",
       "        text-align: right;\n",
       "    }\n",
       "</style>\n",
       "<table border=\"1\" class=\"dataframe\">\n",
       "  <thead>\n",
       "    <tr style=\"text-align: right;\">\n",
       "      <th></th>\n",
       "      <th>Sr.No.</th>\n",
       "      <th>Merit No</th>\n",
       "      <th>Marks</th>\n",
       "      <th>Application ID</th>\n",
       "      <th>Name of Candidate</th>\n",
       "      <th>Gender</th>\n",
       "      <th>Category</th>\n",
       "      <th>PWD/DEF</th>\n",
       "      <th>Sub Group</th>\n",
       "      <th>Seat Type</th>\n",
       "      <th>cource_code</th>\n",
       "      <th>college_code</th>\n",
       "      <th>Category id</th>\n",
       "      <th>Institute Name</th>\n",
       "    </tr>\n",
       "  </thead>\n",
       "  <tbody>\n",
       "    <tr>\n",
       "      <th>0</th>\n",
       "      <td>1</td>\n",
       "      <td>60</td>\n",
       "      <td>95.13</td>\n",
       "      <td>19106856</td>\n",
       "      <td>PAWAR SIDDHI RAVINDRASINGH</td>\n",
       "      <td>F</td>\n",
       "      <td>OPEN</td>\n",
       "      <td>NaN</td>\n",
       "      <td>201</td>\n",
       "      <td>LOPEN</td>\n",
       "      <td>201</td>\n",
       "      <td>1002</td>\n",
       "      <td>1.0</td>\n",
       "      <td>Government College of Engineering, Amravati</td>\n",
       "    </tr>\n",
       "    <tr>\n",
       "      <th>1</th>\n",
       "      <td>2</td>\n",
       "      <td>213</td>\n",
       "      <td>93.38</td>\n",
       "      <td>19126045</td>\n",
       "      <td>MAHALLE SHRADDHA MOHANRAO</td>\n",
       "      <td>F</td>\n",
       "      <td>OBC</td>\n",
       "      <td>NaN</td>\n",
       "      <td>201</td>\n",
       "      <td>GOPEN</td>\n",
       "      <td>201</td>\n",
       "      <td>1002</td>\n",
       "      <td>2.0</td>\n",
       "      <td>Government College of Engineering, Amravati</td>\n",
       "    </tr>\n",
       "    <tr>\n",
       "      <th>2</th>\n",
       "      <td>3</td>\n",
       "      <td>384</td>\n",
       "      <td>92.47</td>\n",
       "      <td>19105661</td>\n",
       "      <td>TUSHAR RAJESH LAHANE</td>\n",
       "      <td>M</td>\n",
       "      <td>OBC</td>\n",
       "      <td>NaN</td>\n",
       "      <td>201</td>\n",
       "      <td>GOBC</td>\n",
       "      <td>201</td>\n",
       "      <td>1002</td>\n",
       "      <td>2.0</td>\n",
       "      <td>Government College of Engineering, Amravati</td>\n",
       "    </tr>\n",
       "    <tr>\n",
       "      <th>3</th>\n",
       "      <td>4</td>\n",
       "      <td>420</td>\n",
       "      <td>92.31</td>\n",
       "      <td>19103256</td>\n",
       "      <td>RAUT PALASH SUBHASH</td>\n",
       "      <td>M</td>\n",
       "      <td>OBC</td>\n",
       "      <td>NaN</td>\n",
       "      <td>201</td>\n",
       "      <td>GOBC</td>\n",
       "      <td>201</td>\n",
       "      <td>1002</td>\n",
       "      <td>2.0</td>\n",
       "      <td>Government College of Engineering, Amravati</td>\n",
       "    </tr>\n",
       "    <tr>\n",
       "      <th>4</th>\n",
       "      <td>5</td>\n",
       "      <td>846</td>\n",
       "      <td>90.79</td>\n",
       "      <td>19148502</td>\n",
       "      <td>BIRAJDAR SAURABH DAYANAND</td>\n",
       "      <td>M</td>\n",
       "      <td>SEBC</td>\n",
       "      <td>NaN</td>\n",
       "      <td>201</td>\n",
       "      <td>GSEBC</td>\n",
       "      <td>201</td>\n",
       "      <td>1002</td>\n",
       "      <td>3.0</td>\n",
       "      <td>Government College of Engineering, Amravati</td>\n",
       "    </tr>\n",
       "  </tbody>\n",
       "</table>\n",
       "</div>"
      ],
      "text/plain": [
       "   Sr.No.  Merit No  Marks  Application ID           Name of Candidate Gender  \\\n",
       "0       1        60  95.13        19106856  PAWAR SIDDHI RAVINDRASINGH      F   \n",
       "1       2       213  93.38        19126045   MAHALLE SHRADDHA MOHANRAO      F   \n",
       "2       3       384  92.47        19105661        TUSHAR RAJESH LAHANE      M   \n",
       "3       4       420  92.31        19103256         RAUT PALASH SUBHASH      M   \n",
       "4       5       846  90.79        19148502   BIRAJDAR SAURABH DAYANAND      M   \n",
       "\n",
       "  Category PWD/DEF Sub Group Seat Type  cource_code  college_code  \\\n",
       "0     OPEN     NaN       201     LOPEN          201          1002   \n",
       "1      OBC     NaN       201     GOPEN          201          1002   \n",
       "2      OBC     NaN       201      GOBC          201          1002   \n",
       "3      OBC     NaN       201      GOBC          201          1002   \n",
       "4     SEBC     NaN       201     GSEBC          201          1002   \n",
       "\n",
       "   Category id                               Institute Name  \n",
       "0          1.0  Government College of Engineering, Amravati  \n",
       "1          2.0  Government College of Engineering, Amravati  \n",
       "2          2.0  Government College of Engineering, Amravati  \n",
       "3          2.0  Government College of Engineering, Amravati  \n",
       "4          3.0  Government College of Engineering, Amravati  "
      ]
     },
     "execution_count": 59,
     "metadata": {},
     "output_type": "execute_result"
    }
   ],
   "source": [
    "dataframe.head()"
   ]
  },
  {
   "cell_type": "markdown",
   "metadata": {},
   "source": [
    "###  College city"
   ]
  },
  {
   "cell_type": "code",
   "execution_count": 60,
   "metadata": {},
   "outputs": [
    {
     "data": {
      "text/html": [
       "<div>\n",
       "<style scoped>\n",
       "    .dataframe tbody tr th:only-of-type {\n",
       "        vertical-align: middle;\n",
       "    }\n",
       "\n",
       "    .dataframe tbody tr th {\n",
       "        vertical-align: top;\n",
       "    }\n",
       "\n",
       "    .dataframe thead th {\n",
       "        text-align: right;\n",
       "    }\n",
       "</style>\n",
       "<table border=\"1\" class=\"dataframe\">\n",
       "  <thead>\n",
       "    <tr style=\"text-align: right;\">\n",
       "      <th></th>\n",
       "      <th>Institute dict</th>\n",
       "    </tr>\n",
       "    <tr>\n",
       "      <th>Institute Code</th>\n",
       "      <th></th>\n",
       "    </tr>\n",
       "  </thead>\n",
       "  <tbody>\n",
       "    <tr>\n",
       "      <th>1002</th>\n",
       "      <td>Amravati</td>\n",
       "    </tr>\n",
       "    <tr>\n",
       "      <th>1005</th>\n",
       "      <td>Amravati</td>\n",
       "    </tr>\n",
       "    <tr>\n",
       "      <th>1012</th>\n",
       "      <td>Yavatmal</td>\n",
       "    </tr>\n",
       "    <tr>\n",
       "      <th>1101</th>\n",
       "      <td>Buldhana</td>\n",
       "    </tr>\n",
       "    <tr>\n",
       "      <th>1105</th>\n",
       "      <td>Amravati</td>\n",
       "    </tr>\n",
       "  </tbody>\n",
       "</table>\n",
       "</div>"
      ],
      "text/plain": [
       "               Institute dict\n",
       "Institute Code               \n",
       "1002                 Amravati\n",
       "1005                 Amravati\n",
       "1012                 Yavatmal\n",
       "1101                 Buldhana\n",
       "1105                 Amravati"
      ]
     },
     "execution_count": 60,
     "metadata": {},
     "output_type": "execute_result"
    }
   ],
   "source": [
    "city=pd.read_csv(\"../final data/college town.csv\",index_col=[\"Institute Code\"])\n",
    "city.drop([\"Unnamed: 0\"],axis=1,inplace=True)\n",
    "city.head()"
   ]
  },
  {
   "cell_type": "code",
   "execution_count": 61,
   "metadata": {},
   "outputs": [],
   "source": [
    "dataframe[\"Institute dict\"]=np.nan\n",
    "city=city.to_dict()\n",
    "city=city[\"Institute dict\"]\n",
    "dataframe[\"Institute dict\"]=dataframe[\"college_code\"].map(city)"
   ]
  },
  {
   "cell_type": "code",
   "execution_count": 62,
   "metadata": {},
   "outputs": [
    {
     "data": {
      "text/html": [
       "<div>\n",
       "<style scoped>\n",
       "    .dataframe tbody tr th:only-of-type {\n",
       "        vertical-align: middle;\n",
       "    }\n",
       "\n",
       "    .dataframe tbody tr th {\n",
       "        vertical-align: top;\n",
       "    }\n",
       "\n",
       "    .dataframe thead th {\n",
       "        text-align: right;\n",
       "    }\n",
       "</style>\n",
       "<table border=\"1\" class=\"dataframe\">\n",
       "  <thead>\n",
       "    <tr style=\"text-align: right;\">\n",
       "      <th></th>\n",
       "      <th>Sr.No.</th>\n",
       "      <th>Merit No</th>\n",
       "      <th>Marks</th>\n",
       "      <th>Application ID</th>\n",
       "      <th>Name of Candidate</th>\n",
       "      <th>Gender</th>\n",
       "      <th>Category</th>\n",
       "      <th>PWD/DEF</th>\n",
       "      <th>Sub Group</th>\n",
       "      <th>Seat Type</th>\n",
       "      <th>cource_code</th>\n",
       "      <th>college_code</th>\n",
       "      <th>Category id</th>\n",
       "      <th>Institute Name</th>\n",
       "      <th>Institute dict</th>\n",
       "    </tr>\n",
       "  </thead>\n",
       "  <tbody>\n",
       "    <tr>\n",
       "      <th>0</th>\n",
       "      <td>1</td>\n",
       "      <td>60</td>\n",
       "      <td>95.13</td>\n",
       "      <td>19106856</td>\n",
       "      <td>PAWAR SIDDHI RAVINDRASINGH</td>\n",
       "      <td>F</td>\n",
       "      <td>OPEN</td>\n",
       "      <td>NaN</td>\n",
       "      <td>201</td>\n",
       "      <td>LOPEN</td>\n",
       "      <td>201</td>\n",
       "      <td>1002</td>\n",
       "      <td>1.0</td>\n",
       "      <td>Government College of Engineering, Amravati</td>\n",
       "      <td>Amravati</td>\n",
       "    </tr>\n",
       "    <tr>\n",
       "      <th>1</th>\n",
       "      <td>2</td>\n",
       "      <td>213</td>\n",
       "      <td>93.38</td>\n",
       "      <td>19126045</td>\n",
       "      <td>MAHALLE SHRADDHA MOHANRAO</td>\n",
       "      <td>F</td>\n",
       "      <td>OBC</td>\n",
       "      <td>NaN</td>\n",
       "      <td>201</td>\n",
       "      <td>GOPEN</td>\n",
       "      <td>201</td>\n",
       "      <td>1002</td>\n",
       "      <td>2.0</td>\n",
       "      <td>Government College of Engineering, Amravati</td>\n",
       "      <td>Amravati</td>\n",
       "    </tr>\n",
       "    <tr>\n",
       "      <th>2</th>\n",
       "      <td>3</td>\n",
       "      <td>384</td>\n",
       "      <td>92.47</td>\n",
       "      <td>19105661</td>\n",
       "      <td>TUSHAR RAJESH LAHANE</td>\n",
       "      <td>M</td>\n",
       "      <td>OBC</td>\n",
       "      <td>NaN</td>\n",
       "      <td>201</td>\n",
       "      <td>GOBC</td>\n",
       "      <td>201</td>\n",
       "      <td>1002</td>\n",
       "      <td>2.0</td>\n",
       "      <td>Government College of Engineering, Amravati</td>\n",
       "      <td>Amravati</td>\n",
       "    </tr>\n",
       "    <tr>\n",
       "      <th>3</th>\n",
       "      <td>4</td>\n",
       "      <td>420</td>\n",
       "      <td>92.31</td>\n",
       "      <td>19103256</td>\n",
       "      <td>RAUT PALASH SUBHASH</td>\n",
       "      <td>M</td>\n",
       "      <td>OBC</td>\n",
       "      <td>NaN</td>\n",
       "      <td>201</td>\n",
       "      <td>GOBC</td>\n",
       "      <td>201</td>\n",
       "      <td>1002</td>\n",
       "      <td>2.0</td>\n",
       "      <td>Government College of Engineering, Amravati</td>\n",
       "      <td>Amravati</td>\n",
       "    </tr>\n",
       "    <tr>\n",
       "      <th>4</th>\n",
       "      <td>5</td>\n",
       "      <td>846</td>\n",
       "      <td>90.79</td>\n",
       "      <td>19148502</td>\n",
       "      <td>BIRAJDAR SAURABH DAYANAND</td>\n",
       "      <td>M</td>\n",
       "      <td>SEBC</td>\n",
       "      <td>NaN</td>\n",
       "      <td>201</td>\n",
       "      <td>GSEBC</td>\n",
       "      <td>201</td>\n",
       "      <td>1002</td>\n",
       "      <td>3.0</td>\n",
       "      <td>Government College of Engineering, Amravati</td>\n",
       "      <td>Amravati</td>\n",
       "    </tr>\n",
       "  </tbody>\n",
       "</table>\n",
       "</div>"
      ],
      "text/plain": [
       "   Sr.No.  Merit No  Marks  Application ID           Name of Candidate Gender  \\\n",
       "0       1        60  95.13        19106856  PAWAR SIDDHI RAVINDRASINGH      F   \n",
       "1       2       213  93.38        19126045   MAHALLE SHRADDHA MOHANRAO      F   \n",
       "2       3       384  92.47        19105661        TUSHAR RAJESH LAHANE      M   \n",
       "3       4       420  92.31        19103256         RAUT PALASH SUBHASH      M   \n",
       "4       5       846  90.79        19148502   BIRAJDAR SAURABH DAYANAND      M   \n",
       "\n",
       "  Category PWD/DEF Sub Group Seat Type  cource_code  college_code  \\\n",
       "0     OPEN     NaN       201     LOPEN          201          1002   \n",
       "1      OBC     NaN       201     GOPEN          201          1002   \n",
       "2      OBC     NaN       201      GOBC          201          1002   \n",
       "3      OBC     NaN       201      GOBC          201          1002   \n",
       "4     SEBC     NaN       201     GSEBC          201          1002   \n",
       "\n",
       "   Category id                               Institute Name Institute dict  \n",
       "0          1.0  Government College of Engineering, Amravati       Amravati  \n",
       "1          2.0  Government College of Engineering, Amravati       Amravati  \n",
       "2          2.0  Government College of Engineering, Amravati       Amravati  \n",
       "3          2.0  Government College of Engineering, Amravati       Amravati  \n",
       "4          3.0  Government College of Engineering, Amravati       Amravati  "
      ]
     },
     "execution_count": 62,
     "metadata": {},
     "output_type": "execute_result"
    }
   ],
   "source": [
    "dataframe.head()"
   ]
  },
  {
   "cell_type": "code",
   "execution_count": 69,
   "metadata": {},
   "outputs": [],
   "source": [
    "dataframe=dataframe[[\"Merit No\",\"Marks\",\"Application ID\",\"Name of Candidate\",\"Gender\",\"Category\",\"Category id\",\"Seat Type\",\"PWD/DEF\",\"Sub Group\",\"cource_code\",\"college_code\",\"Institute dict\",\"Institute Name\"]]"
   ]
  },
  {
   "cell_type": "code",
   "execution_count": 70,
   "metadata": {},
   "outputs": [
    {
     "data": {
      "text/html": [
       "<div>\n",
       "<style scoped>\n",
       "    .dataframe tbody tr th:only-of-type {\n",
       "        vertical-align: middle;\n",
       "    }\n",
       "\n",
       "    .dataframe tbody tr th {\n",
       "        vertical-align: top;\n",
       "    }\n",
       "\n",
       "    .dataframe thead th {\n",
       "        text-align: right;\n",
       "    }\n",
       "</style>\n",
       "<table border=\"1\" class=\"dataframe\">\n",
       "  <thead>\n",
       "    <tr style=\"text-align: right;\">\n",
       "      <th></th>\n",
       "      <th>Merit No</th>\n",
       "      <th>Marks</th>\n",
       "      <th>Application ID</th>\n",
       "      <th>Name of Candidate</th>\n",
       "      <th>Gender</th>\n",
       "      <th>Category</th>\n",
       "      <th>Category id</th>\n",
       "      <th>Seat Type</th>\n",
       "      <th>PWD/DEF</th>\n",
       "      <th>Sub Group</th>\n",
       "      <th>cource_code</th>\n",
       "      <th>college_code</th>\n",
       "      <th>Institute dict</th>\n",
       "      <th>Institute Name</th>\n",
       "    </tr>\n",
       "  </thead>\n",
       "  <tbody>\n",
       "    <tr>\n",
       "      <th>0</th>\n",
       "      <td>60</td>\n",
       "      <td>95.13</td>\n",
       "      <td>19106856</td>\n",
       "      <td>PAWAR SIDDHI RAVINDRASINGH</td>\n",
       "      <td>F</td>\n",
       "      <td>OPEN</td>\n",
       "      <td>1</td>\n",
       "      <td>LOPEN</td>\n",
       "      <td>NaN</td>\n",
       "      <td>201</td>\n",
       "      <td>201</td>\n",
       "      <td>1002</td>\n",
       "      <td>Amravati</td>\n",
       "      <td>Government College of Engineering, Amravati</td>\n",
       "    </tr>\n",
       "    <tr>\n",
       "      <th>1</th>\n",
       "      <td>213</td>\n",
       "      <td>93.38</td>\n",
       "      <td>19126045</td>\n",
       "      <td>MAHALLE SHRADDHA MOHANRAO</td>\n",
       "      <td>F</td>\n",
       "      <td>OBC</td>\n",
       "      <td>2</td>\n",
       "      <td>GOPEN</td>\n",
       "      <td>NaN</td>\n",
       "      <td>201</td>\n",
       "      <td>201</td>\n",
       "      <td>1002</td>\n",
       "      <td>Amravati</td>\n",
       "      <td>Government College of Engineering, Amravati</td>\n",
       "    </tr>\n",
       "    <tr>\n",
       "      <th>2</th>\n",
       "      <td>384</td>\n",
       "      <td>92.47</td>\n",
       "      <td>19105661</td>\n",
       "      <td>TUSHAR RAJESH LAHANE</td>\n",
       "      <td>M</td>\n",
       "      <td>OBC</td>\n",
       "      <td>2</td>\n",
       "      <td>GOBC</td>\n",
       "      <td>NaN</td>\n",
       "      <td>201</td>\n",
       "      <td>201</td>\n",
       "      <td>1002</td>\n",
       "      <td>Amravati</td>\n",
       "      <td>Government College of Engineering, Amravati</td>\n",
       "    </tr>\n",
       "    <tr>\n",
       "      <th>3</th>\n",
       "      <td>420</td>\n",
       "      <td>92.31</td>\n",
       "      <td>19103256</td>\n",
       "      <td>RAUT PALASH SUBHASH</td>\n",
       "      <td>M</td>\n",
       "      <td>OBC</td>\n",
       "      <td>2</td>\n",
       "      <td>GOBC</td>\n",
       "      <td>NaN</td>\n",
       "      <td>201</td>\n",
       "      <td>201</td>\n",
       "      <td>1002</td>\n",
       "      <td>Amravati</td>\n",
       "      <td>Government College of Engineering, Amravati</td>\n",
       "    </tr>\n",
       "    <tr>\n",
       "      <th>4</th>\n",
       "      <td>846</td>\n",
       "      <td>90.79</td>\n",
       "      <td>19148502</td>\n",
       "      <td>BIRAJDAR SAURABH DAYANAND</td>\n",
       "      <td>M</td>\n",
       "      <td>SEBC</td>\n",
       "      <td>3</td>\n",
       "      <td>GSEBC</td>\n",
       "      <td>NaN</td>\n",
       "      <td>201</td>\n",
       "      <td>201</td>\n",
       "      <td>1002</td>\n",
       "      <td>Amravati</td>\n",
       "      <td>Government College of Engineering, Amravati</td>\n",
       "    </tr>\n",
       "  </tbody>\n",
       "</table>\n",
       "</div>"
      ],
      "text/plain": [
       "   Merit No  Marks  Application ID           Name of Candidate Gender  \\\n",
       "0        60  95.13        19106856  PAWAR SIDDHI RAVINDRASINGH      F   \n",
       "1       213  93.38        19126045   MAHALLE SHRADDHA MOHANRAO      F   \n",
       "2       384  92.47        19105661        TUSHAR RAJESH LAHANE      M   \n",
       "3       420  92.31        19103256         RAUT PALASH SUBHASH      M   \n",
       "4       846  90.79        19148502   BIRAJDAR SAURABH DAYANAND      M   \n",
       "\n",
       "  Category  Category id Seat Type PWD/DEF Sub Group  cource_code  \\\n",
       "0     OPEN            1     LOPEN     NaN       201          201   \n",
       "1      OBC            2     GOPEN     NaN       201          201   \n",
       "2      OBC            2      GOBC     NaN       201          201   \n",
       "3      OBC            2      GOBC     NaN       201          201   \n",
       "4     SEBC            3     GSEBC     NaN       201          201   \n",
       "\n",
       "   college_code Institute dict                               Institute Name  \n",
       "0          1002       Amravati  Government College of Engineering, Amravati  \n",
       "1          1002       Amravati  Government College of Engineering, Amravati  \n",
       "2          1002       Amravati  Government College of Engineering, Amravati  \n",
       "3          1002       Amravati  Government College of Engineering, Amravati  \n",
       "4          1002       Amravati  Government College of Engineering, Amravati  "
      ]
     },
     "execution_count": 70,
     "metadata": {},
     "output_type": "execute_result"
    }
   ],
   "source": [
    "dataframe.head()"
   ]
  },
  {
   "cell_type": "code",
   "execution_count": 71,
   "metadata": {},
   "outputs": [
    {
     "name": "stdout",
     "output_type": "stream",
     "text": [
      "<class 'pandas.core.frame.DataFrame'>\n",
      "RangeIndex: 75031 entries, 0 to 75030\n",
      "Data columns (total 14 columns):\n",
      " #   Column             Non-Null Count  Dtype  \n",
      "---  ------             --------------  -----  \n",
      " 0   Merit No           75031 non-null  int64  \n",
      " 1   Marks              75031 non-null  float64\n",
      " 2   Application ID     75031 non-null  int64  \n",
      " 3   Name of Candidate  75031 non-null  object \n",
      " 4   Gender             75031 non-null  object \n",
      " 5   Category           38927 non-null  object \n",
      " 6   Category id        75031 non-null  int64  \n",
      " 7   Seat Type          75031 non-null  object \n",
      " 8   PWD/DEF            81 non-null     object \n",
      " 9   Sub Group          75031 non-null  object \n",
      " 10  cource_code        75031 non-null  int64  \n",
      " 11  college_code       75031 non-null  int64  \n",
      " 12  Institute dict     38927 non-null  object \n",
      " 13  Institute Name     38927 non-null  object \n",
      "dtypes: float64(1), int64(5), object(8)\n",
      "memory usage: 8.0+ MB\n"
     ]
    }
   ],
   "source": [
    "dataframe.info()"
   ]
  },
  {
   "cell_type": "code",
   "execution_count": 72,
   "metadata": {},
   "outputs": [
    {
     "data": {
      "text/plain": [
       "array(['201', '0101', '0104', 0, '101', '0102', '0401', '0103', '102',\n",
       "       '0701', '0404', '0201', '0702', '103', '104', '0304', '0302',\n",
       "       '302', '401', '301', '0301', '0', '201.0', '301.0', '304', '701',\n",
       "       '0303', '0501', '303', '0305', '702', '305', '0402', '402', '0403',\n",
       "       '404', '0801', '501', '601', '0601'], dtype=object)"
      ]
     },
     "execution_count": 72,
     "metadata": {},
     "output_type": "execute_result"
    }
   ],
   "source": [
    "dataframe[\"Sub Group\"].unique()"
   ]
  },
  {
   "cell_type": "code",
   "execution_count": null,
   "metadata": {},
   "outputs": [],
   "source": []
  }
 ],
 "metadata": {
  "kernelspec": {
   "display_name": "Python 3",
   "language": "python",
   "name": "python3"
  },
  "language_info": {
   "codemirror_mode": {
    "name": "ipython",
    "version": 3
   },
   "file_extension": ".py",
   "mimetype": "text/x-python",
   "name": "python",
   "nbconvert_exporter": "python",
   "pygments_lexer": "ipython3",
   "version": "3.7.6"
  }
 },
 "nbformat": 4,
 "nbformat_minor": 4
}
