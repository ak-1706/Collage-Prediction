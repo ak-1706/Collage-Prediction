{
 "cells": [
  {
   "cell_type": "markdown",
   "metadata": {},
   "source": [
    "# Data Cleaning"
   ]
  },
  {
   "cell_type": "code",
   "execution_count": 3,
   "metadata": {},
   "outputs": [],
   "source": [
    "import pandas as pd\n",
    "import numpy as np"
   ]
  },
  {
   "cell_type": "code",
   "execution_count": 283,
   "metadata": {},
   "outputs": [
    {
     "data": {
      "text/html": [
       "<div>\n",
       "<style scoped>\n",
       "    .dataframe tbody tr th:only-of-type {\n",
       "        vertical-align: middle;\n",
       "    }\n",
       "\n",
       "    .dataframe tbody tr th {\n",
       "        vertical-align: top;\n",
       "    }\n",
       "\n",
       "    .dataframe thead th {\n",
       "        text-align: right;\n",
       "    }\n",
       "</style>\n",
       "<table border=\"1\" class=\"dataframe\">\n",
       "  <thead>\n",
       "    <tr style=\"text-align: right;\">\n",
       "      <th></th>\n",
       "      <th>Unnamed: 0</th>\n",
       "      <th>Unnamed: 0.1</th>\n",
       "      <th>Unnamed: 0.1.1</th>\n",
       "      <th>Sr.No.</th>\n",
       "      <th>Merit No</th>\n",
       "      <th>Marks</th>\n",
       "      <th>Application ID</th>\n",
       "      <th>Name of Candidate</th>\n",
       "      <th>Gender</th>\n",
       "      <th>Category</th>\n",
       "      <th>PWD/DEF</th>\n",
       "      <th>Sub Group</th>\n",
       "      <th>Seat Type</th>\n",
       "      <th>cource_code</th>\n",
       "      <th>college_code</th>\n",
       "    </tr>\n",
       "  </thead>\n",
       "  <tbody>\n",
       "    <tr>\n",
       "      <th>0</th>\n",
       "      <td>0</td>\n",
       "      <td>0</td>\n",
       "      <td>0</td>\n",
       "      <td>1</td>\n",
       "      <td>60</td>\n",
       "      <td>95.13%</td>\n",
       "      <td>DSE19106856</td>\n",
       "      <td>PAWAR SIDDHI RAVINDRASINGH</td>\n",
       "      <td>F</td>\n",
       "      <td>OPEN</td>\n",
       "      <td>NaN</td>\n",
       "      <td>201</td>\n",
       "      <td>^LOPEN</td>\n",
       "      <td>201</td>\n",
       "      <td>1002</td>\n",
       "    </tr>\n",
       "    <tr>\n",
       "      <th>1</th>\n",
       "      <td>1</td>\n",
       "      <td>1</td>\n",
       "      <td>1</td>\n",
       "      <td>2</td>\n",
       "      <td>213</td>\n",
       "      <td>93.38%</td>\n",
       "      <td>DSE19126045</td>\n",
       "      <td>MAHALLE SHRADDHA MOHANRAO</td>\n",
       "      <td>F</td>\n",
       "      <td>OBC</td>\n",
       "      <td>NaN</td>\n",
       "      <td>201</td>\n",
       "      <td>^GOPEN</td>\n",
       "      <td>201</td>\n",
       "      <td>1002</td>\n",
       "    </tr>\n",
       "    <tr>\n",
       "      <th>2</th>\n",
       "      <td>2</td>\n",
       "      <td>2</td>\n",
       "      <td>2</td>\n",
       "      <td>3</td>\n",
       "      <td>384</td>\n",
       "      <td>92.47%</td>\n",
       "      <td>DSE19105661</td>\n",
       "      <td>TUSHAR RAJESH LAHANE</td>\n",
       "      <td>M</td>\n",
       "      <td>OBC</td>\n",
       "      <td>NaN</td>\n",
       "      <td>201</td>\n",
       "      <td>#GOBC</td>\n",
       "      <td>201</td>\n",
       "      <td>1002</td>\n",
       "    </tr>\n",
       "    <tr>\n",
       "      <th>3</th>\n",
       "      <td>3</td>\n",
       "      <td>3</td>\n",
       "      <td>3</td>\n",
       "      <td>4</td>\n",
       "      <td>420</td>\n",
       "      <td>92.31%</td>\n",
       "      <td>DSE19103256</td>\n",
       "      <td>RAUT PALASH SUBHASH</td>\n",
       "      <td>M</td>\n",
       "      <td>OBC</td>\n",
       "      <td>NaN</td>\n",
       "      <td>201</td>\n",
       "      <td>^GOBC</td>\n",
       "      <td>201</td>\n",
       "      <td>1002</td>\n",
       "    </tr>\n",
       "    <tr>\n",
       "      <th>4</th>\n",
       "      <td>4</td>\n",
       "      <td>4</td>\n",
       "      <td>4</td>\n",
       "      <td>5</td>\n",
       "      <td>846</td>\n",
       "      <td>90.79%</td>\n",
       "      <td>DSE19148502</td>\n",
       "      <td>BIRAJDAR SAURABH DAYANAND</td>\n",
       "      <td>M</td>\n",
       "      <td>SEBC</td>\n",
       "      <td>NaN</td>\n",
       "      <td>201</td>\n",
       "      <td>*GSEBC</td>\n",
       "      <td>201</td>\n",
       "      <td>1002</td>\n",
       "    </tr>\n",
       "  </tbody>\n",
       "</table>\n",
       "</div>"
      ],
      "text/plain": [
       "   Unnamed: 0  Unnamed: 0.1  Unnamed: 0.1.1  Sr.No. Merit No   Marks  \\\n",
       "0           0             0               0       1       60  95.13%   \n",
       "1           1             1               1       2      213  93.38%   \n",
       "2           2             2               2       3      384  92.47%   \n",
       "3           3             3               3       4      420  92.31%   \n",
       "4           4             4               4       5      846  90.79%   \n",
       "\n",
       "  Application ID           Name of Candidate Gender Category PWD/DEF  \\\n",
       "0    DSE19106856  PAWAR SIDDHI RAVINDRASINGH      F     OPEN     NaN   \n",
       "1    DSE19126045   MAHALLE SHRADDHA MOHANRAO      F      OBC     NaN   \n",
       "2    DSE19105661        TUSHAR RAJESH LAHANE      M      OBC     NaN   \n",
       "3    DSE19103256         RAUT PALASH SUBHASH      M      OBC     NaN   \n",
       "4    DSE19148502   BIRAJDAR SAURABH DAYANAND      M     SEBC     NaN   \n",
       "\n",
       "  Sub Group Seat Type  cource_code  college_code  \n",
       "0       201    ^LOPEN          201          1002  \n",
       "1       201    ^GOPEN          201          1002  \n",
       "2       201     #GOBC          201          1002  \n",
       "3       201     ^GOBC          201          1002  \n",
       "4       201    *GSEBC          201          1002  "
      ]
     },
     "execution_count": 283,
     "metadata": {},
     "output_type": "execute_result"
    }
   ],
   "source": [
    "dataframe=pd.read_csv(\"../final data/cap-1 student info.csv\")\n",
    "dataframe.head()"
   ]
  },
  {
   "cell_type": "code",
   "execution_count": 288,
   "metadata": {},
   "outputs": [],
   "source": [
    "dataframe.drop([\"Unnamed: 0\",\"Unnamed: 0.1\",\"Unnamed: 0.1.1\"],axis=1,inplace=True)"
   ]
  },
  {
   "cell_type": "markdown",
   "metadata": {},
   "source": [
    "## Feature clearing"
   ]
  },
  {
   "cell_type": "markdown",
   "metadata": {},
   "source": [
    "### Feature [\"Mert No\"]"
   ]
  },
  {
   "cell_type": "markdown",
   "metadata": {},
   "source": [
    "Marks have some vacant anoted by \"-\" they showd be convertd as 0  "
   ]
  },
  {
   "cell_type": "code",
   "execution_count": 173,
   "metadata": {},
   "outputs": [],
   "source": [
    "dataframe[\"Merit No\"]=dataframe[\"Merit No\"].astype(str)\n",
    "vacent_entres=dataframe[dataframe[\"Merit No\"]==\"-\"].index.values\n",
    "dataframe.iloc[vacent_entres]=0"
   ]
  },
  {
   "cell_type": "markdown",
   "metadata": {},
   "source": [
    "The feature mert no have all the integer feature it shoud be integer"
   ]
  },
  {
   "cell_type": "code",
   "execution_count": 164,
   "metadata": {},
   "outputs": [],
   "source": [
    "dataframe[\"Merit No\"] = pd.to_numeric(dataframe[\"Merit No\"], errors='coerce').fillna(0).astype(np.int64)"
   ]
  },
  {
   "cell_type": "markdown",
   "metadata": {},
   "source": [
    "### Feature [Marks]"
   ]
  },
  {
   "cell_type": "markdown",
   "metadata": {},
   "source": [
    "The marks in format of % eg 80.0% they should converted as 80.0 "
   ]
  },
  {
   "cell_type": "code",
   "execution_count": 138,
   "metadata": {},
   "outputs": [],
   "source": [
    "dataframe[\"Marks\"]=dataframe[\"Marks\"].astype(str)"
   ]
  },
  {
   "cell_type": "code",
   "execution_count": 139,
   "metadata": {},
   "outputs": [
    {
     "data": {
      "text/plain": [
       "75031"
      ]
     },
     "execution_count": 139,
     "metadata": {},
     "output_type": "execute_result"
    }
   ],
   "source": [
    "length=dataframe.shape\n",
    "length[0]"
   ]
  },
  {
   "cell_type": "markdown",
   "metadata": {},
   "source": [
    "removig %"
   ]
  },
  {
   "cell_type": "code",
   "execution_count": 140,
   "metadata": {},
   "outputs": [
    {
     "name": "stderr",
     "output_type": "stream",
     "text": [
      "C:\\Users\\sai\\anaconda3\\lib\\site-packages\\pandas\\core\\indexing.py:670: SettingWithCopyWarning: \n",
      "A value is trying to be set on a copy of a slice from a DataFrame\n",
      "\n",
      "See the caveats in the documentation: https://pandas.pydata.org/pandas-docs/stable/user_guide/indexing.html#returning-a-view-versus-a-copy\n",
      "  self._setitem_with_indexer(indexer, value)\n"
     ]
    }
   ],
   "source": [
    "for i in range(length[0]):\n",
    "    data=dataframe[\"Marks\"].iloc[i]\n",
    "    if data!=0:\n",
    "        data=''.join([ word for word  in data if word.isdigit() or word==\".\"])\n",
    "        dataframe[\"Marks\"].iloc[i]=data"
   ]
  },
  {
   "cell_type": "code",
   "execution_count": 141,
   "metadata": {},
   "outputs": [],
   "source": [
    "dataframe[\"Marks\"] = pd.to_numeric(dataframe[\"Marks\"], errors='coerce').fillna(0).astype(np.float64)"
   ]
  },
  {
   "cell_type": "markdown",
   "metadata": {},
   "source": [
    "### Feature [Application Id]"
   ]
  },
  {
   "cell_type": "markdown",
   "metadata": {},
   "source": [
    "The application id is only the feature that can uniqly identify student bot the application id is in format DSE12458. if move remove [DSE] from the if goood o have id as Integer"
   ]
  },
  {
   "cell_type": "code",
   "execution_count": 142,
   "metadata": {},
   "outputs": [],
   "source": [
    "dataframe[\"Application ID\"]=dataframe[\"Application ID\"].astype(str)"
   ]
  },
  {
   "cell_type": "code",
   "execution_count": 143,
   "metadata": {},
   "outputs": [],
   "source": [
    "for i in range(length[0]):\n",
    "    data=dataframe[\"Application ID\"].iloc[i]\n",
    "    if  data !=0:\n",
    "        data=''.join([word for word in data if  word.isdigit()])\n",
    "        dataframe[\"Application ID\"].iloc[i]=data"
   ]
  },
  {
   "cell_type": "code",
   "execution_count": 144,
   "metadata": {},
   "outputs": [],
   "source": [
    "dataframe[\"Application ID\"] = pd.to_numeric(dataframe[\"Application ID\"], errors='coerce').fillna(0).astype(np.int64)"
   ]
  },
  {
   "cell_type": "markdown",
   "metadata": {},
   "source": [
    "### Feature [Seat Type]"
   ]
  },
  {
   "cell_type": "markdown",
   "metadata": {},
   "source": [
    "The feature seat type contain the spacial symobols witch can affect model.It better to remove the symboles"
   ]
  },
  {
   "cell_type": "code",
   "execution_count": 145,
   "metadata": {},
   "outputs": [],
   "source": [
    "dataframe[\"Seat Type\"]=dataframe[\"Seat Type\"].astype(str)"
   ]
  },
  {
   "cell_type": "code",
   "execution_count": 146,
   "metadata": {},
   "outputs": [],
   "source": [
    "for i in range(length[0]):\n",
    "    data=dataframe[\"Seat Type\"].iloc[i]\n",
    "    if data!=0:\n",
    "        data=''.join([word for word in data if word.isalpha()])\n",
    "        dataframe[\"Seat Type\"].iloc[i]=data"
   ]
  },
  {
   "cell_type": "code",
   "execution_count": 147,
   "metadata": {},
   "outputs": [
    {
     "data": {
      "text/plain": [
       "array(['LOPEN', 'GOPEN', 'GOBC', 'GSEBC', 'LSC', 'EWS', 'LST', 'GSC', '',\n",
       "       'LOBC', 'GST', 'GNTD', 'LSEBC', 'LNTC', 'PHOBC', 'LNTB', 'MI',\n",
       "       'GNTB', 'GNTC', 'GNTA', 'LNTA', 'DFSC', 'LNTD', 'PHO', 'DFSEBC',\n",
       "       'DFO', 'PHSC', 'DFOBC', 'DFNTC', 'DFNTD', 'PHNTC', 'PHSEBC',\n",
       "       'PHNTB', 'PHNTA', 'DFST', 'DFNTB', 'PHNTD'], dtype=object)"
      ]
     },
     "execution_count": 147,
     "metadata": {},
     "output_type": "execute_result"
    }
   ],
   "source": [
    "dataframe[\"Seat Type\"].unique()"
   ]
  },
  {
   "cell_type": "markdown",
   "metadata": {},
   "source": [
    "### Feature [Category]"
   ]
  },
  {
   "cell_type": "markdown",
   "metadata": {},
   "source": [
    "The feature inalid symboles"
   ]
  },
  {
   "cell_type": "code",
   "execution_count": 148,
   "metadata": {},
   "outputs": [],
   "source": [
    "for i in range(length[0]):\n",
    "    data=dataframe[\"Category\"].iloc[i]\n",
    "    if data!=0:\n",
    "        data=''.join([word for word in data if word.isalpha() or word.isdigit() or word == \"/\" or word==\"(\" or word==\")\"])\n",
    "        dataframe[\"Category\"].iloc[i]=data"
   ]
  },
  {
   "cell_type": "code",
   "execution_count": 149,
   "metadata": {},
   "outputs": [
    {
     "data": {
      "text/plain": [
       "array(['OPEN', 'OBC', 'SEBC', 'SC', 'OPEN/EWS', 'ST', 'NT1(NTB)', 0,\n",
       "       'NT3(NTD)', 'NT2(NTC)', 'SBC/OBC', 'DT/VJNT(A)', 'SBC', '0'],\n",
       "      dtype=object)"
      ]
     },
     "execution_count": 149,
     "metadata": {},
     "output_type": "execute_result"
    }
   ],
   "source": [
    "dataframe[\"Category\"].unique()"
   ]
  },
  {
   "cell_type": "markdown",
   "metadata": {},
   "source": [
    "###  Feature [Gender]"
   ]
  },
  {
   "cell_type": "code",
   "execution_count": 177,
   "metadata": {},
   "outputs": [],
   "source": [
    "dataframe[\"Gender\"]=dataframe[\"Gender\"].astype(str)"
   ]
  },
  {
   "cell_type": "code",
   "execution_count": 183,
   "metadata": {},
   "outputs": [
    {
     "name": "stdout",
     "output_type": "stream",
     "text": [
      "<class 'pandas.core.frame.DataFrame'>\n",
      "RangeIndex: 75031 entries, 0 to 75030\n",
      "Data columns (total 12 columns):\n",
      " #   Column             Non-Null Count  Dtype \n",
      "---  ------             --------------  ----- \n",
      " 0   Sr.No.             75031 non-null  int64 \n",
      " 1   Merit No           75031 non-null  object\n",
      " 2   Marks              75031 non-null  object\n",
      " 3   Application ID     75031 non-null  object\n",
      " 4   Name of Candidate  75031 non-null  object\n",
      " 5   Gender             75031 non-null  object\n",
      " 6   Category           75031 non-null  object\n",
      " 7   PWD/DEF            36409 non-null  object\n",
      " 8   Sub Group          75031 non-null  object\n",
      " 9   Seat Type          75031 non-null  object\n",
      " 10  cource_code        75031 non-null  int64 \n",
      " 11  college_code       75031 non-null  int64 \n",
      "dtypes: int64(3), object(9)\n",
      "memory usage: 6.9+ MB\n"
     ]
    }
   ],
   "source": [
    "dataframe.info()"
   ]
  },
  {
   "cell_type": "code",
   "execution_count": 319,
   "metadata": {},
   "outputs": [
    {
     "data": {
      "text/plain": [
       "array([nan, 'Low-Vision', 'DEF1', 'Locomotor \\r\\nDisability',\n",
       "       'Physical \\r\\nimpairment', 'DEF2', 'Hard of \\r\\nHearing',\n",
       "       'Thalassemia', '0', 'Specific \\r\\nLearning \\r\\nDisabilities',\n",
       "       'Cerebral \\r\\nPalsy', 'Blindness', 'DEF3', 'Haemophilia',\n",
       "       'Muscular \\r\\nDystrophy', 'Physical \\r\\nimpairment/DEF1', 'Deaf',\n",
       "       'Intellectual \\r\\nDisability'], dtype=object)"
      ]
     },
     "execution_count": 319,
     "metadata": {},
     "output_type": "execute_result"
    }
   ],
   "source": [
    "dataframe[\"PWD/DEF\"].unique()"
   ]
  },
  {
   "cell_type": "code",
   "execution_count": null,
   "metadata": {},
   "outputs": [],
   "source": [
    "#for i in range(length[0]):\n",
    "    #data=dataframe[\"Category\"].iloc[i]\n",
    "    #if data!=0:\n",
    "        #data=''.join([word for word in data if word.isalpha() or word.isdigit() or word == \"\" or word==\"(\" or word==\")\"])\n",
    "        #dataframe[\"Category\"].iloc[i]=data"
   ]
  },
  {
   "cell_type": "code",
   "execution_count": 185,
   "metadata": {},
   "outputs": [
    {
     "ename": "SyntaxError",
     "evalue": "unexpected EOF while parsing (<ipython-input-185-07dece481270>, line 1)",
     "output_type": "error",
     "traceback": [
      "\u001b[1;36m  File \u001b[1;32m\"<ipython-input-185-07dece481270>\"\u001b[1;36m, line \u001b[1;32m1\u001b[0m\n\u001b[1;33m    for i in range(length[0]):\u001b[0m\n\u001b[1;37m                              ^\u001b[0m\n\u001b[1;31mSyntaxError\u001b[0m\u001b[1;31m:\u001b[0m unexpected EOF while parsing\n"
     ]
    }
   ],
   "source": [
    "#for i in range(length[0]):\n",
    "    #data=dataframe[\"Category\"].iloc[i]\n",
    "    #if data!=0:\n",
    "        #data=''.join([word for word in data if word.isalpha() or word.isdigit() or word == \"\" or word==\"(\" or word==\")\"])\n",
    "        #dataframe[\"Category\"].iloc[i]=data"
   ]
  },
  {
   "cell_type": "markdown",
   "metadata": {},
   "source": [
    "### College Maping"
   ]
  },
  {
   "cell_type": "markdown",
   "metadata": {},
   "source": [
    "The data scource only have college code we have to add collage name"
   ]
  },
  {
   "cell_type": "code",
   "execution_count": 284,
   "metadata": {},
   "outputs": [
    {
     "data": {
      "text/html": [
       "<div>\n",
       "<style scoped>\n",
       "    .dataframe tbody tr th:only-of-type {\n",
       "        vertical-align: middle;\n",
       "    }\n",
       "\n",
       "    .dataframe tbody tr th {\n",
       "        vertical-align: top;\n",
       "    }\n",
       "\n",
       "    .dataframe thead th {\n",
       "        text-align: right;\n",
       "    }\n",
       "</style>\n",
       "<table border=\"1\" class=\"dataframe\">\n",
       "  <thead>\n",
       "    <tr style=\"text-align: right;\">\n",
       "      <th></th>\n",
       "      <th>Institute Name</th>\n",
       "    </tr>\n",
       "    <tr>\n",
       "      <th>Institute Code</th>\n",
       "      <th></th>\n",
       "    </tr>\n",
       "  </thead>\n",
       "  <tbody>\n",
       "    <tr>\n",
       "      <th>1002</th>\n",
       "      <td>Government College of Engineering, Amravati</td>\n",
       "    </tr>\n",
       "    <tr>\n",
       "      <th>1005</th>\n",
       "      <td>Sant Gadge Baba Amravati University,Amravati</td>\n",
       "    </tr>\n",
       "    <tr>\n",
       "      <th>1012</th>\n",
       "      <td>Government Engineering College, Yavatmal</td>\n",
       "    </tr>\n",
       "    <tr>\n",
       "      <th>1101</th>\n",
       "      <td>Shri Sant Gajanan Maharaj College of Engineeri...</td>\n",
       "    </tr>\n",
       "    <tr>\n",
       "      <th>1105</th>\n",
       "      <td>Prof. Ram Meghe Institute of Technology &amp; Rese...</td>\n",
       "    </tr>\n",
       "  </tbody>\n",
       "</table>\n",
       "</div>"
      ],
      "text/plain": [
       "                                                   Institute Name\n",
       "Institute Code                                                   \n",
       "1002                  Government College of Engineering, Amravati\n",
       "1005                 Sant Gadge Baba Amravati University,Amravati\n",
       "1012                     Government Engineering College, Yavatmal\n",
       "1101            Shri Sant Gajanan Maharaj College of Engineeri...\n",
       "1105            Prof. Ram Meghe Institute of Technology & Rese..."
      ]
     },
     "execution_count": 284,
     "metadata": {},
     "output_type": "execute_result"
    }
   ],
   "source": [
    "college_data=pd.read_csv(\"../final data/college maping.csv\",index_col=[\"Institute Code\"],usecols=None,)\n",
    "college_data.drop([\"Unnamed: 0\"],axis=1,inplace=True)\n",
    "college_data.head()"
   ]
  },
  {
   "cell_type": "code",
   "execution_count": 285,
   "metadata": {},
   "outputs": [],
   "source": [
    "data=college_data.to_dict()\n",
    "data=data['Institute Name']"
   ]
  },
  {
   "cell_type": "code",
   "execution_count": 286,
   "metadata": {},
   "outputs": [],
   "source": [
    "dataframe[\"Institute Name\"]=dataframe[\"college_code\"].map(data)"
   ]
  },
  {
   "cell_type": "code",
   "execution_count": 290,
   "metadata": {},
   "outputs": [
    {
     "data": {
      "text/html": [
       "<div>\n",
       "<style scoped>\n",
       "    .dataframe tbody tr th:only-of-type {\n",
       "        vertical-align: middle;\n",
       "    }\n",
       "\n",
       "    .dataframe tbody tr th {\n",
       "        vertical-align: top;\n",
       "    }\n",
       "\n",
       "    .dataframe thead th {\n",
       "        text-align: right;\n",
       "    }\n",
       "</style>\n",
       "<table border=\"1\" class=\"dataframe\">\n",
       "  <thead>\n",
       "    <tr style=\"text-align: right;\">\n",
       "      <th></th>\n",
       "      <th>Sr.No.</th>\n",
       "      <th>Merit No</th>\n",
       "      <th>Marks</th>\n",
       "      <th>Application ID</th>\n",
       "      <th>Name of Candidate</th>\n",
       "      <th>Gender</th>\n",
       "      <th>Category</th>\n",
       "      <th>PWD/DEF</th>\n",
       "      <th>Sub Group</th>\n",
       "      <th>Seat Type</th>\n",
       "      <th>cource_code</th>\n",
       "      <th>college_code</th>\n",
       "      <th>Institute Name</th>\n",
       "    </tr>\n",
       "  </thead>\n",
       "  <tbody>\n",
       "    <tr>\n",
       "      <th>0</th>\n",
       "      <td>1</td>\n",
       "      <td>60</td>\n",
       "      <td>95.13%</td>\n",
       "      <td>DSE19106856</td>\n",
       "      <td>PAWAR SIDDHI RAVINDRASINGH</td>\n",
       "      <td>F</td>\n",
       "      <td>OPEN</td>\n",
       "      <td>NaN</td>\n",
       "      <td>201</td>\n",
       "      <td>^LOPEN</td>\n",
       "      <td>201</td>\n",
       "      <td>1002</td>\n",
       "      <td>Government College of Engineering, Amravati</td>\n",
       "    </tr>\n",
       "    <tr>\n",
       "      <th>1</th>\n",
       "      <td>2</td>\n",
       "      <td>213</td>\n",
       "      <td>93.38%</td>\n",
       "      <td>DSE19126045</td>\n",
       "      <td>MAHALLE SHRADDHA MOHANRAO</td>\n",
       "      <td>F</td>\n",
       "      <td>OBC</td>\n",
       "      <td>NaN</td>\n",
       "      <td>201</td>\n",
       "      <td>^GOPEN</td>\n",
       "      <td>201</td>\n",
       "      <td>1002</td>\n",
       "      <td>Government College of Engineering, Amravati</td>\n",
       "    </tr>\n",
       "    <tr>\n",
       "      <th>2</th>\n",
       "      <td>3</td>\n",
       "      <td>384</td>\n",
       "      <td>92.47%</td>\n",
       "      <td>DSE19105661</td>\n",
       "      <td>TUSHAR RAJESH LAHANE</td>\n",
       "      <td>M</td>\n",
       "      <td>OBC</td>\n",
       "      <td>NaN</td>\n",
       "      <td>201</td>\n",
       "      <td>#GOBC</td>\n",
       "      <td>201</td>\n",
       "      <td>1002</td>\n",
       "      <td>Government College of Engineering, Amravati</td>\n",
       "    </tr>\n",
       "    <tr>\n",
       "      <th>3</th>\n",
       "      <td>4</td>\n",
       "      <td>420</td>\n",
       "      <td>92.31%</td>\n",
       "      <td>DSE19103256</td>\n",
       "      <td>RAUT PALASH SUBHASH</td>\n",
       "      <td>M</td>\n",
       "      <td>OBC</td>\n",
       "      <td>NaN</td>\n",
       "      <td>201</td>\n",
       "      <td>^GOBC</td>\n",
       "      <td>201</td>\n",
       "      <td>1002</td>\n",
       "      <td>Government College of Engineering, Amravati</td>\n",
       "    </tr>\n",
       "    <tr>\n",
       "      <th>4</th>\n",
       "      <td>5</td>\n",
       "      <td>846</td>\n",
       "      <td>90.79%</td>\n",
       "      <td>DSE19148502</td>\n",
       "      <td>BIRAJDAR SAURABH DAYANAND</td>\n",
       "      <td>M</td>\n",
       "      <td>SEBC</td>\n",
       "      <td>NaN</td>\n",
       "      <td>201</td>\n",
       "      <td>*GSEBC</td>\n",
       "      <td>201</td>\n",
       "      <td>1002</td>\n",
       "      <td>Government College of Engineering, Amravati</td>\n",
       "    </tr>\n",
       "  </tbody>\n",
       "</table>\n",
       "</div>"
      ],
      "text/plain": [
       "   Sr.No. Merit No   Marks Application ID           Name of Candidate Gender  \\\n",
       "0       1       60  95.13%    DSE19106856  PAWAR SIDDHI RAVINDRASINGH      F   \n",
       "1       2      213  93.38%    DSE19126045   MAHALLE SHRADDHA MOHANRAO      F   \n",
       "2       3      384  92.47%    DSE19105661        TUSHAR RAJESH LAHANE      M   \n",
       "3       4      420  92.31%    DSE19103256         RAUT PALASH SUBHASH      M   \n",
       "4       5      846  90.79%    DSE19148502   BIRAJDAR SAURABH DAYANAND      M   \n",
       "\n",
       "  Category PWD/DEF Sub Group Seat Type  cource_code  college_code  \\\n",
       "0     OPEN     NaN       201    ^LOPEN          201          1002   \n",
       "1      OBC     NaN       201    ^GOPEN          201          1002   \n",
       "2      OBC     NaN       201     #GOBC          201          1002   \n",
       "3      OBC     NaN       201     ^GOBC          201          1002   \n",
       "4     SEBC     NaN       201    *GSEBC          201          1002   \n",
       "\n",
       "                                Institute Name  \n",
       "0  Government College of Engineering, Amravati  \n",
       "1  Government College of Engineering, Amravati  \n",
       "2  Government College of Engineering, Amravati  \n",
       "3  Government College of Engineering, Amravati  \n",
       "4  Government College of Engineering, Amravati  "
      ]
     },
     "execution_count": 290,
     "metadata": {},
     "output_type": "execute_result"
    }
   ],
   "source": [
    "dataframe.head()"
   ]
  },
  {
   "cell_type": "markdown",
   "metadata": {},
   "source": [
    "### College city"
   ]
  },
  {
   "cell_type": "code",
   "execution_count": 311,
   "metadata": {},
   "outputs": [],
   "source": [
    "dataframe[\"Institute Name\"]=dataframe[\"Institute Name\"].astype(str)\n",
    "for i in range(length[0]):\n",
    "    data=dataframe[\"Institute Name\"].iloc[i]\n",
    "    data_list=data.split()\n",
    "    temp=data_list[-1]\n",
    "    dataframe[\"Institute City\"].iloc[i]=temp    "
   ]
  },
  {
   "cell_type": "code",
   "execution_count": null,
   "metadata": {},
   "outputs": [],
   "source": []
  },
  {
   "cell_type": "code",
   "execution_count": null,
   "metadata": {},
   "outputs": [],
   "source": []
  }
 ],
 "metadata": {
  "kernelspec": {
   "display_name": "Python 3",
   "language": "python",
   "name": "python3"
  },
  "language_info": {
   "codemirror_mode": {
    "name": "ipython",
    "version": 3
   },
   "file_extension": ".py",
   "mimetype": "text/x-python",
   "name": "python",
   "nbconvert_exporter": "python",
   "pygments_lexer": "ipython3",
   "version": "3.7.6"
  }
 },
 "nbformat": 4,
 "nbformat_minor": 4
}
