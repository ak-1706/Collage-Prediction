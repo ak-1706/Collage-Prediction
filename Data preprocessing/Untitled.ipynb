{
 "cells": [
  {
   "cell_type": "markdown",
   "metadata": {},
   "source": [
    "# Data Cleaning"
   ]
  },
  {
   "cell_type": "code",
   "execution_count": 13,
   "metadata": {},
   "outputs": [],
   "source": [
    "import pandas as pd\n",
    "import numpy as np"
   ]
  },
  {
   "cell_type": "markdown",
   "metadata": {},
   "source": [
    "In data minig it is found that some rows have shifted to left there are less number off rows with are shifted so just drop it"
   ]
  },
  {
   "cell_type": "code",
   "execution_count": 14,
   "metadata": {},
   "outputs": [
    {
     "data": {
      "text/html": [
       "<div>\n",
       "<style scoped>\n",
       "    .dataframe tbody tr th:only-of-type {\n",
       "        vertical-align: middle;\n",
       "    }\n",
       "\n",
       "    .dataframe tbody tr th {\n",
       "        vertical-align: top;\n",
       "    }\n",
       "\n",
       "    .dataframe thead th {\n",
       "        text-align: right;\n",
       "    }\n",
       "</style>\n",
       "<table border=\"1\" class=\"dataframe\">\n",
       "  <thead>\n",
       "    <tr style=\"text-align: right;\">\n",
       "      <th></th>\n",
       "      <th>Unnamed: 0</th>\n",
       "      <th>Sr.No.</th>\n",
       "      <th>Merit No</th>\n",
       "      <th>Marks</th>\n",
       "      <th>Application ID</th>\n",
       "      <th>Name of Candidate</th>\n",
       "      <th>Gender</th>\n",
       "      <th>Category</th>\n",
       "      <th>PWD/DEF</th>\n",
       "      <th>Sub Group</th>\n",
       "      <th>Seat Type</th>\n",
       "      <th>cource_code</th>\n",
       "      <th>college_code</th>\n",
       "    </tr>\n",
       "  </thead>\n",
       "  <tbody>\n",
       "    <tr>\n",
       "      <th>0</th>\n",
       "      <td>0</td>\n",
       "      <td>1.0</td>\n",
       "      <td>60</td>\n",
       "      <td>95.13%</td>\n",
       "      <td>DSE19106856</td>\n",
       "      <td>PAWAR SIDDHI RAVINDRASINGH</td>\n",
       "      <td>F</td>\n",
       "      <td>OPEN</td>\n",
       "      <td>NaN</td>\n",
       "      <td>201</td>\n",
       "      <td>^LOPEN</td>\n",
       "      <td>201</td>\n",
       "      <td>1002</td>\n",
       "    </tr>\n",
       "    <tr>\n",
       "      <th>1</th>\n",
       "      <td>1</td>\n",
       "      <td>2.0</td>\n",
       "      <td>213</td>\n",
       "      <td>93.38%</td>\n",
       "      <td>DSE19126045</td>\n",
       "      <td>MAHALLE SHRADDHA MOHANRAO</td>\n",
       "      <td>F</td>\n",
       "      <td>OBC</td>\n",
       "      <td>NaN</td>\n",
       "      <td>201</td>\n",
       "      <td>^GOPEN</td>\n",
       "      <td>201</td>\n",
       "      <td>1002</td>\n",
       "    </tr>\n",
       "    <tr>\n",
       "      <th>2</th>\n",
       "      <td>2</td>\n",
       "      <td>3.0</td>\n",
       "      <td>384</td>\n",
       "      <td>92.47%</td>\n",
       "      <td>DSE19105661</td>\n",
       "      <td>TUSHAR RAJESH LAHANE</td>\n",
       "      <td>M</td>\n",
       "      <td>OBC</td>\n",
       "      <td>NaN</td>\n",
       "      <td>201</td>\n",
       "      <td>#GOBC</td>\n",
       "      <td>201</td>\n",
       "      <td>1002</td>\n",
       "    </tr>\n",
       "    <tr>\n",
       "      <th>3</th>\n",
       "      <td>3</td>\n",
       "      <td>4.0</td>\n",
       "      <td>420</td>\n",
       "      <td>92.31%</td>\n",
       "      <td>DSE19103256</td>\n",
       "      <td>RAUT PALASH SUBHASH</td>\n",
       "      <td>M</td>\n",
       "      <td>OBC</td>\n",
       "      <td>NaN</td>\n",
       "      <td>201</td>\n",
       "      <td>^GOBC</td>\n",
       "      <td>201</td>\n",
       "      <td>1002</td>\n",
       "    </tr>\n",
       "    <tr>\n",
       "      <th>4</th>\n",
       "      <td>4</td>\n",
       "      <td>5.0</td>\n",
       "      <td>846</td>\n",
       "      <td>90.79%</td>\n",
       "      <td>DSE19148502</td>\n",
       "      <td>BIRAJDAR SAURABH DAYANAND</td>\n",
       "      <td>M</td>\n",
       "      <td>SEBC</td>\n",
       "      <td>NaN</td>\n",
       "      <td>201</td>\n",
       "      <td>*GSEBC</td>\n",
       "      <td>201</td>\n",
       "      <td>1002</td>\n",
       "    </tr>\n",
       "  </tbody>\n",
       "</table>\n",
       "</div>"
      ],
      "text/plain": [
       "   Unnamed: 0 Sr.No. Merit No   Marks Application ID  \\\n",
       "0           0    1.0       60  95.13%    DSE19106856   \n",
       "1           1    2.0      213  93.38%    DSE19126045   \n",
       "2           2    3.0      384  92.47%    DSE19105661   \n",
       "3           3    4.0      420  92.31%    DSE19103256   \n",
       "4           4    5.0      846  90.79%    DSE19148502   \n",
       "\n",
       "            Name of Candidate Gender Category PWD/DEF Sub Group Seat Type  \\\n",
       "0  PAWAR SIDDHI RAVINDRASINGH      F     OPEN     NaN       201    ^LOPEN   \n",
       "1   MAHALLE SHRADDHA MOHANRAO      F      OBC     NaN       201    ^GOPEN   \n",
       "2        TUSHAR RAJESH LAHANE      M      OBC     NaN       201     #GOBC   \n",
       "3         RAUT PALASH SUBHASH      M      OBC     NaN       201     ^GOBC   \n",
       "4   BIRAJDAR SAURABH DAYANAND      M     SEBC     NaN       201    *GSEBC   \n",
       "\n",
       "   cource_code  college_code  \n",
       "0          201          1002  \n",
       "1          201          1002  \n",
       "2          201          1002  \n",
       "3          201          1002  \n",
       "4          201          1002  "
      ]
     },
     "execution_count": 14,
     "metadata": {},
     "output_type": "execute_result"
    }
   ],
   "source": [
    "dataframe=pd.read_csv(\"../final data/Cap- Student Info.csv\")\n",
    "dataframe.head()"
   ]
  },
  {
   "cell_type": "code",
   "execution_count": 15,
   "metadata": {},
   "outputs": [
    {
     "name": "stdout",
     "output_type": "stream",
     "text": [
      "<class 'pandas.core.frame.DataFrame'>\n",
      "RangeIndex: 73551 entries, 0 to 73550\n",
      "Data columns (total 13 columns):\n",
      " #   Column             Non-Null Count  Dtype \n",
      "---  ------             --------------  ----- \n",
      " 0   Unnamed: 0         73551 non-null  int64 \n",
      " 1   Sr.No.             73526 non-null  object\n",
      " 2   Merit No           73526 non-null  object\n",
      " 3   Marks              73526 non-null  object\n",
      " 4   Application ID     73526 non-null  object\n",
      " 5   Name of Candidate  73526 non-null  object\n",
      " 6   Gender             73526 non-null  object\n",
      " 7   Category           73033 non-null  object\n",
      " 8   PWD/DEF            1300 non-null   object\n",
      " 9   Sub Group          73526 non-null  object\n",
      " 10  Seat Type          73031 non-null  object\n",
      " 11  cource_code        73551 non-null  int64 \n",
      " 12  college_code       73551 non-null  int64 \n",
      "dtypes: int64(3), object(10)\n",
      "memory usage: 7.3+ MB\n"
     ]
    }
   ],
   "source": [
    "dataframe.info()"
   ]
  },
  {
   "cell_type": "code",
   "execution_count": 16,
   "metadata": {},
   "outputs": [
    {
     "data": {
      "text/plain": [
       "array(['1.0', '2.0', '3.0', '4.0', '5.0', '6.0', '7.0', '8.0', '9.0',\n",
       "       '10.0', '11.0', '12.0', '13.0', '14.0', '15.0', '16.0', '17.0',\n",
       "       '18.0', '19.0', '20.0', '21.0', '22.0', '23.0', '24.0', '25.0',\n",
       "       '26.0', '27.0', '28.0', '29.0', '30.0', '31.0', '32.0', '33.0',\n",
       "       '34.0', '35.0', '36.0', '37.0', '38.0', '39.0', '40.0', '41.0',\n",
       "       '42.0', '43.0', '44.0', '45.0', '46.0', '47.0', '48.0', '49.0',\n",
       "       '50.0', '51.0', '52.0', '53.0', '54.0', '55.0', '56.0', '57.0',\n",
       "       '58.0', '59.0', '60.0', '61.0', '62.0', '63.0', '64.0', '65.0',\n",
       "       '66.0', '67.0', '68.0', '69.0', '71.0', '72.0', '73.0', '74.0',\n",
       "       '75.0', '76.0', '77.0', '78.0', '79.0', '80.0', '81.0', '82.0',\n",
       "       '83.0', '84.0', '85.0', '86.0', nan, '87.0', '88.0', '89.0',\n",
       "       '90.0', '91.0', '92.0', '93.0', '94.0', '95.0', '96.0', '97.0',\n",
       "       '98.0', '99.0', '100.0', '101.0', '102.0', '103.0', '104.0',\n",
       "       '105.0', '106.0', '107.0', '108.0', '109.0', '110.0', '111.0',\n",
       "       '113.0', '114.0', '115.0', '116.0', '117.0', '118.0', '119.0',\n",
       "       '120.0', '121.0', '122.0', '123.0', '124.0', '125.0', '70.0',\n",
       "       '126.0', '127.0', '128.0', '129.0', '130.0', '131.0', '132.0',\n",
       "       '133.0', '134.0', '3515.0', '3953.0', '4224.0', '5357.0', '6067.0',\n",
       "       '6582.0', '6643.0', '7540.0', '7594.0', '8225.0', '8636.0',\n",
       "       '10558.0', '8286.0', '8838.0', '11461.0', '1', '2', '3', '4', '5',\n",
       "       '6', '7', '8', '9', '10', '11', '12', '13', '14', '15', '16', '17',\n",
       "       '18', '19', '20', '21', '22', '23', '24', '25', '26', '27', '29',\n",
       "       '30', '31', '32', '33', '34', '35', '36', '37', '38', '39', '40',\n",
       "       '41', '42', '43', '44', '45', '46', '47', '48', '49', '24478',\n",
       "       '24816', '45620', '-', '68', '69', '70', '71', '72', '73', '74',\n",
       "       '75', '76', '77', '78', '79', '80', '81', '82', '83', '84', '85',\n",
       "       '86', '87', '88', '89', '90', '91', '92', '93', '94', '95', '96',\n",
       "       '97', '98', '99', '50', '51', '52', '53', '54', '55', '56', '57',\n",
       "       '58', '59', '60', '61', '62', '63', '64', '65', '66', '67', '100',\n",
       "       '101', '102', '103', '104', '105', '106', '107', '108', '109',\n",
       "       '110', '111', '113', '114', '115', '116', '117', '118', '119',\n",
       "       '120', '121', '122', '123', '124', '125', '126', '127', '128',\n",
       "       '129', '130', '131', '132', '133', '134', '135', '28', '10080.0',\n",
       "       '10118.0', '10269.0', '10296.0', '10697.0', '11035.0', '11960.0',\n",
       "       '12214.0', '12393.0', '12416.0', '12665.0', '12741.0', '13833.0',\n",
       "       '13999.0', '14329.0', '14950.0', '15319.0', '16139.0', '16339.0',\n",
       "       '17940.0', '18035.0', '21445.0', '22111.0', '23345.0', '24219.0',\n",
       "       '25620.0', '26230.0', '26496.0', '27685.0', '28081.0', '28652.0',\n",
       "       '31155.0', '31377.0', '32865.0', '37309.0', '37336.0', '38753.0',\n",
       "       '39506.0', '43228.0', '45286.0', '13904', '30169', '37367',\n",
       "       '10207', '11320', '11585', '12364', '12759', '30957', '31831',\n",
       "       '33514', '33664', '33962', '34273', '34282', '38093', '39390',\n",
       "       '41261', '41980', '47503', '47825', '26759', '27878', '30462',\n",
       "       '31172', '31444', '31631', '35057', '35733', '36699', '39691',\n",
       "       '41210', '41967', '112', '20535', '21577', '25679', '27325',\n",
       "       '11335', '4374', '13223', '13545', '14415', '14657', '16081',\n",
       "       '16401', '23430', '30785', '36462', '39421', '40771', '41739',\n",
       "       '43076', '43735', '45042', '47059', '136', '137', '138', '139',\n",
       "       '140', '141', '142', '143', '144', '145', '146', '147', '148',\n",
       "       '149', '150', '151', '152', '153', '154', '155', '156', '157',\n",
       "       '158', '159', '161', '162', '163', '164', '165', '166', '167',\n",
       "       '168', '169', '170', '171', '172', '173', '174', '175', '176',\n",
       "       '177', '178', '179', '180', '181', '182', '183', '184', '185',\n",
       "       '186', '187', '188', '189', '190', '191', '192', '193', '194',\n",
       "       '195', '196', '197', '198', '199', '200', '201', '203', '204',\n",
       "       '205', '206', '207', '208', '209', '210', '211', '212', '213',\n",
       "       '214', '3312', '3479', '3694', '3789', '3836', '3993', '7993',\n",
       "       '9970', '10604', '13637', '17120', '21268', '25022', '27056',\n",
       "       '27131', '30557', '31721', '34912', '36882', '38730', '38858',\n",
       "       '38877', '39313', '40234', '43104', '43471', '46833', '47251',\n",
       "       '48570', '24365', '24806', '25668', '215', '216', '217', '218',\n",
       "       '219', '220', '221', '222', '223', '224', '225', '226', '227',\n",
       "       '228', '229', '230', '231', '232', '233', '234', '235', '236',\n",
       "       '237', '238', '239', '240', '241', '242', '243', '160', '1751',\n",
       "       '2138', '2558', '2836'], dtype=object)"
      ]
     },
     "execution_count": 16,
     "metadata": {},
     "output_type": "execute_result"
    }
   ],
   "source": [
    "dataframe[\"Sr.No.\"].unique()"
   ]
  },
  {
   "cell_type": "code",
   "execution_count": 17,
   "metadata": {},
   "outputs": [
    {
     "data": {
      "text/plain": [
       "(73551, 13)"
      ]
     },
     "execution_count": 17,
     "metadata": {},
     "output_type": "execute_result"
    }
   ],
   "source": [
    "dataframe.shape"
   ]
  },
  {
   "cell_type": "code",
   "execution_count": 18,
   "metadata": {},
   "outputs": [],
   "source": [
    "vacent_record=dataframe[dataframe[\"Sr.No.\"]==\"-\"].index.values\n",
    "vacent_record_nan=dataframe[dataframe[\"Sr.No.\"].isnull()].index.values"
   ]
  },
  {
   "cell_type": "code",
   "execution_count": 19,
   "metadata": {},
   "outputs": [],
   "source": [
    "dataframe.iloc[vacent_record]=0\n",
    "dataframe.iloc[vacent_record_nan]=0"
   ]
  },
  {
   "cell_type": "code",
   "execution_count": 20,
   "metadata": {},
   "outputs": [],
   "source": [
    "dataframe[\"Sr.No.\"] = pd.to_numeric(dataframe[\"Sr.No.\"], errors='coerce').fillna(0).astype(np.int64)"
   ]
  },
  {
   "cell_type": "code",
   "execution_count": 21,
   "metadata": {},
   "outputs": [],
   "source": [
    "invalid_data= dataframe[dataframe[\"Sr.No.\"]>243].index.values\n",
    "dataframe.drop(index=invalid_data,inplace=True)"
   ]
  },
  {
   "cell_type": "code",
   "execution_count": 22,
   "metadata": {},
   "outputs": [
    {
     "data": {
      "text/plain": [
       "(73402, 13)"
      ]
     },
     "execution_count": 22,
     "metadata": {},
     "output_type": "execute_result"
    }
   ],
   "source": [
    "dataframe.shape"
   ]
  },
  {
   "cell_type": "code",
   "execution_count": 24,
   "metadata": {},
   "outputs": [],
   "source": [
    "dataframe.to_csv(\"../final data/Cap-2 Student Info.csv\")"
   ]
  },
  {
   "cell_type": "code",
   "execution_count": null,
   "metadata": {},
   "outputs": [],
   "source": []
  },
  {
   "cell_type": "code",
   "execution_count": null,
   "metadata": {},
   "outputs": [],
   "source": []
  },
  {
   "cell_type": "code",
   "execution_count": null,
   "metadata": {},
   "outputs": [],
   "source": []
  },
  {
   "cell_type": "code",
   "execution_count": null,
   "metadata": {},
   "outputs": [],
   "source": []
  }
 ],
 "metadata": {
  "kernelspec": {
   "display_name": "Python 3",
   "language": "python",
   "name": "python3"
  },
  "language_info": {
   "codemirror_mode": {
    "name": "ipython",
    "version": 3
   },
   "file_extension": ".py",
   "mimetype": "text/x-python",
   "name": "python",
   "nbconvert_exporter": "python",
   "pygments_lexer": "ipython3",
   "version": "3.7.6"
  }
 },
 "nbformat": 4,
 "nbformat_minor": 4
}
