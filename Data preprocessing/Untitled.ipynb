{
 "cells": [
  {
   "cell_type": "markdown",
   "metadata": {},
   "source": [
    "# Data Cleaning"
   ]
  },
  {
   "cell_type": "code",
   "execution_count": 2,
   "metadata": {},
   "outputs": [],
   "source": [
    "import pandas as pd\n",
    "import numpy as np"
   ]
  },
  {
   "cell_type": "markdown",
   "metadata": {},
   "source": [
    "In data minig it is found that some rows have shifted to left there are less number off rows with are shifted so just drop it"
   ]
  },
  {
   "cell_type": "code",
   "execution_count": 23,
   "metadata": {},
   "outputs": [
    {
     "data": {
      "text/html": [
       "<div>\n",
       "<style scoped>\n",
       "    .dataframe tbody tr th:only-of-type {\n",
       "        vertical-align: middle;\n",
       "    }\n",
       "\n",
       "    .dataframe tbody tr th {\n",
       "        vertical-align: top;\n",
       "    }\n",
       "\n",
       "    .dataframe thead th {\n",
       "        text-align: right;\n",
       "    }\n",
       "</style>\n",
       "<table border=\"1\" class=\"dataframe\">\n",
       "  <thead>\n",
       "    <tr style=\"text-align: right;\">\n",
       "      <th></th>\n",
       "      <th>Unnamed: 0</th>\n",
       "      <th>Sr.No.</th>\n",
       "      <th>Merit No</th>\n",
       "      <th>Marks</th>\n",
       "      <th>Application ID</th>\n",
       "      <th>Name of Candidate</th>\n",
       "      <th>Gender</th>\n",
       "      <th>Category</th>\n",
       "      <th>PWD/DEF</th>\n",
       "      <th>Sub Group</th>\n",
       "      <th>Seat Type</th>\n",
       "      <th>cource_code</th>\n",
       "      <th>college_code</th>\n",
       "    </tr>\n",
       "  </thead>\n",
       "  <tbody>\n",
       "    <tr>\n",
       "      <th>0</th>\n",
       "      <td>0</td>\n",
       "      <td>1.0</td>\n",
       "      <td>60</td>\n",
       "      <td>95.13%</td>\n",
       "      <td>DSE19106856</td>\n",
       "      <td>PAWAR SIDDHI RAVINDRASINGH</td>\n",
       "      <td>F</td>\n",
       "      <td>OPEN</td>\n",
       "      <td>NaN</td>\n",
       "      <td>201</td>\n",
       "      <td>^LOPEN</td>\n",
       "      <td>201</td>\n",
       "      <td>1002</td>\n",
       "    </tr>\n",
       "    <tr>\n",
       "      <th>1</th>\n",
       "      <td>1</td>\n",
       "      <td>2.0</td>\n",
       "      <td>213</td>\n",
       "      <td>93.38%</td>\n",
       "      <td>DSE19126045</td>\n",
       "      <td>MAHALLE SHRADDHA MOHANRAO</td>\n",
       "      <td>F</td>\n",
       "      <td>OBC</td>\n",
       "      <td>NaN</td>\n",
       "      <td>201</td>\n",
       "      <td>^GOPEN</td>\n",
       "      <td>201</td>\n",
       "      <td>1002</td>\n",
       "    </tr>\n",
       "    <tr>\n",
       "      <th>2</th>\n",
       "      <td>2</td>\n",
       "      <td>3.0</td>\n",
       "      <td>384</td>\n",
       "      <td>92.47%</td>\n",
       "      <td>DSE19105661</td>\n",
       "      <td>TUSHAR RAJESH LAHANE</td>\n",
       "      <td>M</td>\n",
       "      <td>OBC</td>\n",
       "      <td>NaN</td>\n",
       "      <td>201</td>\n",
       "      <td>#GOBC</td>\n",
       "      <td>201</td>\n",
       "      <td>1002</td>\n",
       "    </tr>\n",
       "    <tr>\n",
       "      <th>3</th>\n",
       "      <td>3</td>\n",
       "      <td>4.0</td>\n",
       "      <td>420</td>\n",
       "      <td>92.31%</td>\n",
       "      <td>DSE19103256</td>\n",
       "      <td>RAUT PALASH SUBHASH</td>\n",
       "      <td>M</td>\n",
       "      <td>OBC</td>\n",
       "      <td>NaN</td>\n",
       "      <td>201</td>\n",
       "      <td>^GOBC</td>\n",
       "      <td>201</td>\n",
       "      <td>1002</td>\n",
       "    </tr>\n",
       "    <tr>\n",
       "      <th>4</th>\n",
       "      <td>4</td>\n",
       "      <td>5.0</td>\n",
       "      <td>846</td>\n",
       "      <td>90.79%</td>\n",
       "      <td>DSE19148502</td>\n",
       "      <td>BIRAJDAR SAURABH DAYANAND</td>\n",
       "      <td>M</td>\n",
       "      <td>SEBC</td>\n",
       "      <td>NaN</td>\n",
       "      <td>201</td>\n",
       "      <td>*GSEBC</td>\n",
       "      <td>201</td>\n",
       "      <td>1002</td>\n",
       "    </tr>\n",
       "  </tbody>\n",
       "</table>\n",
       "</div>"
      ],
      "text/plain": [
       "   Unnamed: 0 Sr.No. Merit No   Marks Application ID  \\\n",
       "0           0    1.0       60  95.13%    DSE19106856   \n",
       "1           1    2.0      213  93.38%    DSE19126045   \n",
       "2           2    3.0      384  92.47%    DSE19105661   \n",
       "3           3    4.0      420  92.31%    DSE19103256   \n",
       "4           4    5.0      846  90.79%    DSE19148502   \n",
       "\n",
       "            Name of Candidate Gender Category PWD/DEF Sub Group Seat Type  \\\n",
       "0  PAWAR SIDDHI RAVINDRASINGH      F     OPEN     NaN       201    ^LOPEN   \n",
       "1   MAHALLE SHRADDHA MOHANRAO      F      OBC     NaN       201    ^GOPEN   \n",
       "2        TUSHAR RAJESH LAHANE      M      OBC     NaN       201     #GOBC   \n",
       "3         RAUT PALASH SUBHASH      M      OBC     NaN       201     ^GOBC   \n",
       "4   BIRAJDAR SAURABH DAYANAND      M     SEBC     NaN       201    *GSEBC   \n",
       "\n",
       "   cource_code  college_code  \n",
       "0          201          1002  \n",
       "1          201          1002  \n",
       "2          201          1002  \n",
       "3          201          1002  \n",
       "4          201          1002  "
      ]
     },
     "execution_count": 23,
     "metadata": {},
     "output_type": "execute_result"
    }
   ],
   "source": [
    "dataframe=pd.read_csv(\"../final data/Cap-2 Student Info.csv\")\n",
    "dataframe.head()"
   ]
  },
  {
   "cell_type": "code",
   "execution_count": 19,
   "metadata": {},
   "outputs": [
    {
     "name": "stdout",
     "output_type": "stream",
     "text": [
      "<class 'pandas.core.frame.DataFrame'>\n",
      "RangeIndex: 73813 entries, 0 to 73812\n",
      "Data columns (total 13 columns):\n",
      " #   Column             Non-Null Count  Dtype \n",
      "---  ------             --------------  ----- \n",
      " 0   Unnamed: 0         73813 non-null  int64 \n",
      " 1   Sr.No.             73787 non-null  object\n",
      " 2   Merit No           73787 non-null  object\n",
      " 3   Marks              73787 non-null  object\n",
      " 4   Application ID     73787 non-null  object\n",
      " 5   Name of Candidate  73787 non-null  object\n",
      " 6   Gender             73787 non-null  object\n",
      " 7   Category           73213 non-null  object\n",
      " 8   PWD/DEF            975 non-null    object\n",
      " 9   Sub Group          73787 non-null  object\n",
      " 10  Seat Type          73211 non-null  object\n",
      " 11  cource_code        73813 non-null  int64 \n",
      " 12  college_code       73813 non-null  int64 \n",
      "dtypes: int64(3), object(10)\n",
      "memory usage: 7.3+ MB\n"
     ]
    }
   ],
   "source": [
    "dataframe.info()"
   ]
  },
  {
   "cell_type": "code",
   "execution_count": 26,
   "metadata": {},
   "outputs": [
    {
     "data": {
      "text/plain": [
       "array([    1,     2,     3,     4,     5,     6,     7,     8,     9,\n",
       "          10,    11,    12,    13,    14,    15,    16,    17,    18,\n",
       "          19,    20,    21,    22,    23,    24,    25,    26,    27,\n",
       "          28,    29,    30,    31,    32,    33,    34,    35,    36,\n",
       "          37,    38,    39,    40,    41,    42,    43,    44,    45,\n",
       "          46,    47,    48,    49,    50,    51,    52,    53,    54,\n",
       "          55,    56,    57,    58,    59,    60,    61,    62,    63,\n",
       "          64,    65,    66,    67,    68,    69,    71,    72,    73,\n",
       "          74,    75,    76,    77,    78,    79,    80,    81,    82,\n",
       "          83,    84,    85,    86,     0,    87,    88,    89,    90,\n",
       "          91,    92,    93,    94,    95,    96,    97,    98,    99,\n",
       "         100,   101,   102,   103,   104,   105,   106,   107,   108,\n",
       "         109,   110,   111,   113,   114,   115,   116,   117,   118,\n",
       "         119,   120,   121,   122,   123,   124,   125,    70,   126,\n",
       "         127,   128,   129,   130,   131,   132,   133,   134,  3515,\n",
       "        3953,  4224,  5357,  6067,  6582,  6643,  7540,  7594,  8225,\n",
       "        8636, 10558,  8286,  8838, 11461, 24478, 24816, 45620,   135,\n",
       "       10080, 10118, 10269, 10296, 10697, 11035, 11960, 12214, 12393,\n",
       "       12416, 12665, 12741, 13833, 13999, 14329, 14950, 15319, 16139,\n",
       "       16339, 17940, 18035, 21445, 22111, 23345, 24219, 25620, 26230,\n",
       "       26496, 27685, 28081, 28652, 31155, 31377, 32865, 37309, 37336,\n",
       "       38753, 39506, 43228, 45286, 13904, 30169, 37367, 10207, 11320,\n",
       "       11585, 12364, 12759, 30957, 31831, 33514, 33664, 33962, 34273,\n",
       "       34282, 38093, 39390, 41261, 41980, 47503, 47825, 26759, 27878,\n",
       "       30462, 31172, 31444, 31631, 35057, 35733, 36699, 39691, 41210,\n",
       "       41967,   112, 20535, 21577, 25679, 27325, 11335,  4374, 13223,\n",
       "       13545, 14415, 14657, 16081, 16401, 23430, 30785, 36462, 39421,\n",
       "       40771, 41739, 43076, 43735, 45042, 47059,   136,   137,   138,\n",
       "         139,   140,   141,   142,   143,   144,   145,   146,   147,\n",
       "         148,   149,   150,   151,   152,   153,   154,   155,   156,\n",
       "         157,   158,   159,   161,   162,   163,   164,   165,   166,\n",
       "         167,   168,   169,   170,   171,   172,   173,   174,   175,\n",
       "         176,   177,   178,   179,   180,   181,   182,   183,   184,\n",
       "         185,   186,   187,   188,   189,   190,   191,   192,   193,\n",
       "         194,   195,   196,   197,   198,   199,   200,   201,   203,\n",
       "         204,   205,   206,   207,   208,   209,   210,   211,   212,\n",
       "         213,   214,  3312,  3479,  3694,  3789,  3836,  3993,  7993,\n",
       "        9970, 10604, 13637, 17120, 21268, 25022, 27056, 27131, 30557,\n",
       "       31721, 34912, 36882, 38730, 38858, 38877, 39313, 40234, 43104,\n",
       "       43471, 46833, 47251, 48570, 24365, 24806, 25668,   215,   216,\n",
       "         217,   218,   219,   220,   221,   222,   223,   224,   225,\n",
       "         226,   227,   228,   229,   230,   231,   232,   233,   234,\n",
       "         235,   236,   237,   238,   239,   240,   241,   242,   243,\n",
       "         160,  1751,  2138,  2558,  2836], dtype=int64)"
      ]
     },
     "execution_count": 26,
     "metadata": {},
     "output_type": "execute_result"
    }
   ],
   "source": [
    "dataframe[\"Sr.No.\"].unique()"
   ]
  },
  {
   "cell_type": "code",
   "execution_count": 123,
   "metadata": {},
   "outputs": [
    {
     "data": {
      "text/plain": [
       "(75159, 13)"
      ]
     },
     "execution_count": 123,
     "metadata": {},
     "output_type": "execute_result"
    }
   ],
   "source": [
    "dataframe.shape"
   ]
  },
  {
   "cell_type": "code",
   "execution_count": 124,
   "metadata": {},
   "outputs": [],
   "source": [
    "vacent_record=dataframe[dataframe[\"Sr.No.\"]==\"-\"].index.values\n",
    "vacent_record_nan=dataframe[dataframe[\"Sr.No.\"].isnull()].index.values"
   ]
  },
  {
   "cell_type": "code",
   "execution_count": 125,
   "metadata": {},
   "outputs": [
    {
     "data": {
      "text/plain": [
       "42"
      ]
     },
     "execution_count": 125,
     "metadata": {},
     "output_type": "execute_result"
    }
   ],
   "source": [
    "len(vacent_record_nan)"
   ]
  },
  {
   "cell_type": "code",
   "execution_count": 126,
   "metadata": {},
   "outputs": [],
   "source": [
    "dataframe.iloc[vacent_record]=0\n",
    "dataframe.iloc[vacent_record_nan]=0"
   ]
  },
  {
   "cell_type": "code",
   "execution_count": 127,
   "metadata": {},
   "outputs": [
    {
     "data": {
      "text/html": [
       "<div>\n",
       "<style scoped>\n",
       "    .dataframe tbody tr th:only-of-type {\n",
       "        vertical-align: middle;\n",
       "    }\n",
       "\n",
       "    .dataframe tbody tr th {\n",
       "        vertical-align: top;\n",
       "    }\n",
       "\n",
       "    .dataframe thead th {\n",
       "        text-align: right;\n",
       "    }\n",
       "</style>\n",
       "<table border=\"1\" class=\"dataframe\">\n",
       "  <thead>\n",
       "    <tr style=\"text-align: right;\">\n",
       "      <th></th>\n",
       "      <th>Unnamed: 0</th>\n",
       "      <th>Sr.No.</th>\n",
       "      <th>Merit No</th>\n",
       "      <th>Marks</th>\n",
       "      <th>Application ID</th>\n",
       "      <th>Name of Candidate</th>\n",
       "      <th>Gender</th>\n",
       "      <th>Category</th>\n",
       "      <th>PWD/DEF</th>\n",
       "      <th>Sub Group</th>\n",
       "      <th>Seat Type</th>\n",
       "      <th>cource_code</th>\n",
       "      <th>college_code</th>\n",
       "    </tr>\n",
       "  </thead>\n",
       "  <tbody>\n",
       "    <tr>\n",
       "      <th>0</th>\n",
       "      <td>0</td>\n",
       "      <td>1</td>\n",
       "      <td>60</td>\n",
       "      <td>95.13%</td>\n",
       "      <td>DSE19106856</td>\n",
       "      <td>PAWAR SIDDHI RAVINDRASINGH</td>\n",
       "      <td>F</td>\n",
       "      <td>OPEN</td>\n",
       "      <td>NaN</td>\n",
       "      <td>201</td>\n",
       "      <td>^LOPEN</td>\n",
       "      <td>201</td>\n",
       "      <td>1002</td>\n",
       "    </tr>\n",
       "    <tr>\n",
       "      <th>1</th>\n",
       "      <td>1</td>\n",
       "      <td>2</td>\n",
       "      <td>213</td>\n",
       "      <td>93.38%</td>\n",
       "      <td>DSE19126045</td>\n",
       "      <td>MAHALLE SHRADDHA MOHANRAO</td>\n",
       "      <td>F</td>\n",
       "      <td>OBC</td>\n",
       "      <td>NaN</td>\n",
       "      <td>201</td>\n",
       "      <td>^GOPEN</td>\n",
       "      <td>201</td>\n",
       "      <td>1002</td>\n",
       "    </tr>\n",
       "    <tr>\n",
       "      <th>2</th>\n",
       "      <td>2</td>\n",
       "      <td>3</td>\n",
       "      <td>384</td>\n",
       "      <td>92.47%</td>\n",
       "      <td>DSE19105661</td>\n",
       "      <td>TUSHAR RAJESH LAHANE</td>\n",
       "      <td>M</td>\n",
       "      <td>OBC</td>\n",
       "      <td>NaN</td>\n",
       "      <td>201</td>\n",
       "      <td>#GOBC</td>\n",
       "      <td>201</td>\n",
       "      <td>1002</td>\n",
       "    </tr>\n",
       "    <tr>\n",
       "      <th>3</th>\n",
       "      <td>3</td>\n",
       "      <td>4</td>\n",
       "      <td>420</td>\n",
       "      <td>92.31%</td>\n",
       "      <td>DSE19103256</td>\n",
       "      <td>RAUT PALASH SUBHASH</td>\n",
       "      <td>M</td>\n",
       "      <td>OBC</td>\n",
       "      <td>NaN</td>\n",
       "      <td>201</td>\n",
       "      <td>^GOBC</td>\n",
       "      <td>201</td>\n",
       "      <td>1002</td>\n",
       "    </tr>\n",
       "    <tr>\n",
       "      <th>4</th>\n",
       "      <td>4</td>\n",
       "      <td>5</td>\n",
       "      <td>846</td>\n",
       "      <td>90.79%</td>\n",
       "      <td>DSE19148502</td>\n",
       "      <td>BIRAJDAR SAURABH DAYANAND</td>\n",
       "      <td>M</td>\n",
       "      <td>SEBC</td>\n",
       "      <td>NaN</td>\n",
       "      <td>201</td>\n",
       "      <td>*GSEBC</td>\n",
       "      <td>201</td>\n",
       "      <td>1002</td>\n",
       "    </tr>\n",
       "  </tbody>\n",
       "</table>\n",
       "</div>"
      ],
      "text/plain": [
       "   Unnamed: 0 Sr.No. Merit No   Marks Application ID  \\\n",
       "0           0      1       60  95.13%    DSE19106856   \n",
       "1           1      2      213  93.38%    DSE19126045   \n",
       "2           2      3      384  92.47%    DSE19105661   \n",
       "3           3      4      420  92.31%    DSE19103256   \n",
       "4           4      5      846  90.79%    DSE19148502   \n",
       "\n",
       "            Name of Candidate Gender Category PWD/DEF Sub Group Seat Type  \\\n",
       "0  PAWAR SIDDHI RAVINDRASINGH      F     OPEN     NaN       201    ^LOPEN   \n",
       "1   MAHALLE SHRADDHA MOHANRAO      F      OBC     NaN       201    ^GOPEN   \n",
       "2        TUSHAR RAJESH LAHANE      M      OBC     NaN       201     #GOBC   \n",
       "3         RAUT PALASH SUBHASH      M      OBC     NaN       201     ^GOBC   \n",
       "4   BIRAJDAR SAURABH DAYANAND      M     SEBC     NaN       201    *GSEBC   \n",
       "\n",
       "   cource_code  college_code  \n",
       "0          201          1002  \n",
       "1          201          1002  \n",
       "2          201          1002  \n",
       "3          201          1002  \n",
       "4          201          1002  "
      ]
     },
     "execution_count": 127,
     "metadata": {},
     "output_type": "execute_result"
    }
   ],
   "source": [
    "dataframe.head()"
   ]
  },
  {
   "cell_type": "code",
   "execution_count": 131,
   "metadata": {},
   "outputs": [],
   "source": [
    "invalid=['102', '103', '104', '105', '106', '107', '108', '109', '110',\n",
    "       '111', '113', '114', '115', '116', '117', '118', '119', '120',\n",
    "       '121', '122', '123', '124', '125', '70', '46539', 0, '126', '127',\n",
    "       '128', '129', '130', '131', '132', '133', '134', '1.0', '2.0',\n",
    "       '3.0', '4.0', '5.0', '6.0', '7.0', '8.0', '9.0', '10.0', '11.0',\n",
    "       '12.0', '13.0', '14.0', '15.0', '16.0', '17.0', '18.0', '19.0',\n",
    "       '20.0', '21.0', '22.0', '23.0', '24.0', '25.0', '26.0', '27.0',\n",
    "       '29.0', '30.0', '31.0', '32.0', '33.0', '34.0', '35.0', '36.0',\n",
    "       '37.0', '38.0', '39.0', '40.0', '41.0', '42.0', '43.0', '44.0',\n",
    "       '45.0', '46.0', '47.0', '48.0', '49.0', '50.0', '51.0', '52.0',\n",
    "       '53.0', '54.0', '55.0', '56.0', '57.0', '58.0', '59.0', '60.0',\n",
    "       '61.0', '3515.0', '3953.0', '4224.0', '5357.0', '6067.0', '6582.0',\n",
    "       '6643.0', '7540.0', '7594.0', '8225.0', '8636.0', '10558.0',\n",
    "       '28.0', '8286', '11461', '22704', '45053', '53591', '24816',\n",
    "       '44680', '45620', '52483', '135', '39233', '47755', '24904',\n",
    "       '27431', '33788', '112', '26923', '24478', '4374', '13223',\n",
    "       '13545', '14415', '14657', '16081', '16401', '17042', '23430',\n",
    "       '30785', '36462', '39421', '40771', '41739', '43076', '43735',\n",
    "       '45042', '47059', '7912', '21698', '47390', '51634', '52954',\n",
    "       '53648', '54148', '136', '137', '138', '139', '140', '141', '142',\n",
    "       '143', '144', '145', '146', '147', '148', '149', '150', '151',\n",
    "       '152', '153', '154', '155', '156', '157', '158', '159', '161',\n",
    "       '162', '163', '164', '165', '166', '167', '168', '169', '170',\n",
    "       '171', '172', '173', '174', '175', '176', '177', '178', '179',\n",
    "       '180', '181', '182', '183', '184', '185', '186', '187', '188',\n",
    "       '189', '190', '191', '192', '193', '194', '195', '196', '197',\n",
    "       '198', '199', '200', '201', '203', '204', '205', '206', '207',\n",
    "       '208', '209', '210', '211', '212', '213', '214', '17660', '28356',\n",
    "       '28633', '28737', '28895', '29405', '32055', '32298', '37037',\n",
    "       '42063', '42095', '42365', '46280', '46777', '46857', '46895',\n",
    "       '47317', '49800', '49983', '54081', '54122', '54203', '28956',\n",
    "       '29239', '30243', '30754', '30932', '32399', '32819', '32907',\n",
    "       '34643', '36684', '41214', '42673', '42932', '47562', '47993',\n",
    "       '48701', '51766', '53091', '54305', '43603', '7993', '9970',\n",
    "       '10604', '13637', '17120', '21268', '25022', '27056', '27131',\n",
    "       '30557', '31721', '34912', '38730', '38858', '38877', '40234',\n",
    "       '43104', '43471', '46598', '46833', '47251', '48570', '5747',\n",
    "       '12953', '32357', '40137', '43102', '49157', '43824', '45250',\n",
    "       '47375', '47763', '215', '216', '217', '218', '219', '220', '221',\n",
    "       '222', '223', '224', '225', '226', '227', '228', '229', '230',\n",
    "       '231', '232', '233', '234', '235', '236', '237', '238', '239',\n",
    "       '240', '241', '242', '243']"
   ]
  },
  {
   "cell_type": "code",
   "execution_count": 145,
   "metadata": {},
   "outputs": [],
   "source": [
    "shifted_record=[]\n",
    "for srno in range(0,len(invalid)):\n",
    "    shifted_record.append(dataframe[dataframe[\"Sr.No.\"]==invalid[srno]].index.values)"
   ]
  },
  {
   "cell_type": "code",
   "execution_count": 149,
   "metadata": {},
   "outputs": [
    {
     "data": {
      "text/plain": [
       "array([ 1213,  1733,  3416,  3855,  4627,  5920,  6305,  7201,  7413,\n",
       "        8153,  8442,  8605,  9111, 10464, 11857, 12583, 12754, 23054,\n",
       "       24201, 25821, 26015, 26146, 27530, 27764, 31178, 36263, 36448,\n",
       "       36751, 37021, 37316, 37505, 38263, 39342, 40710, 40872, 42736,\n",
       "       43440, 45100, 46363, 46925, 47524, 47966, 52065, 52772, 53053,\n",
       "       53346, 53602, 54095, 54434, 56348, 56469, 56671, 57329, 57591,\n",
       "       59258, 59412, 59811, 59915, 60055, 61079, 61340, 61726, 61851,\n",
       "       62444, 62769, 64071, 64182, 64410, 65116, 65231, 65337, 65501,\n",
       "       65781, 65908, 66146, 66277, 66516, 66775, 67872, 68017, 68223,\n",
       "       68757, 69167, 69512, 69858, 70042, 70156, 70269, 70640, 70827,\n",
       "       71014, 71321, 71564, 72000, 72175, 72361, 72493, 72625, 72817,\n",
       "       72947, 73260, 73752, 73911, 74105, 74225, 74874], dtype=int64)"
      ]
     },
     "execution_count": 149,
     "metadata": {},
     "output_type": "execute_result"
    }
   ],
   "source": [
    "shifted_record[0]"
   ]
  },
  {
   "cell_type": "code",
   "execution_count": 25,
   "metadata": {},
   "outputs": [],
   "source": [
    "dataframe[\"Sr.No.\"] = pd.to_numeric(dataframe[\"Sr.No.\"], errors='coerce').fillna(0).astype(np.int64)"
   ]
  },
  {
   "cell_type": "code",
   "execution_count": 129,
   "metadata": {},
   "outputs": [
    {
     "ename": "ValueError",
     "evalue": "invalid literal for int() with base 10: '1.0'",
     "output_type": "error",
     "traceback": [
      "\u001b[1;31m---------------------------------------------------------------------------\u001b[0m",
      "\u001b[1;31mValueError\u001b[0m                                Traceback (most recent call last)",
      "\u001b[1;32m<ipython-input-129-b9e462e62bdf>\u001b[0m in \u001b[0;36m<module>\u001b[1;34m\u001b[0m\n\u001b[1;32m----> 1\u001b[1;33m \u001b[0mdataframe\u001b[0m\u001b[1;33m[\u001b[0m\u001b[1;34m\"Sr.No.\"\u001b[0m\u001b[1;33m]\u001b[0m\u001b[1;33m=\u001b[0m\u001b[0mdataframe\u001b[0m\u001b[1;33m[\u001b[0m\u001b[1;34m\"Sr.No.\"\u001b[0m\u001b[1;33m]\u001b[0m\u001b[1;33m.\u001b[0m\u001b[0mastype\u001b[0m\u001b[1;33m(\u001b[0m\u001b[0mint\u001b[0m\u001b[1;33m)\u001b[0m\u001b[1;33m\u001b[0m\u001b[1;33m\u001b[0m\u001b[0m\n\u001b[0m",
      "\u001b[1;32m~\\anaconda3\\lib\\site-packages\\pandas\\core\\generic.py\u001b[0m in \u001b[0;36mastype\u001b[1;34m(self, dtype, copy, errors)\u001b[0m\n\u001b[0;32m   5696\u001b[0m         \u001b[1;32melse\u001b[0m\u001b[1;33m:\u001b[0m\u001b[1;33m\u001b[0m\u001b[1;33m\u001b[0m\u001b[0m\n\u001b[0;32m   5697\u001b[0m             \u001b[1;31m# else, only a single dtype is given\u001b[0m\u001b[1;33m\u001b[0m\u001b[1;33m\u001b[0m\u001b[1;33m\u001b[0m\u001b[0m\n\u001b[1;32m-> 5698\u001b[1;33m             \u001b[0mnew_data\u001b[0m \u001b[1;33m=\u001b[0m \u001b[0mself\u001b[0m\u001b[1;33m.\u001b[0m\u001b[0m_data\u001b[0m\u001b[1;33m.\u001b[0m\u001b[0mastype\u001b[0m\u001b[1;33m(\u001b[0m\u001b[0mdtype\u001b[0m\u001b[1;33m=\u001b[0m\u001b[0mdtype\u001b[0m\u001b[1;33m,\u001b[0m \u001b[0mcopy\u001b[0m\u001b[1;33m=\u001b[0m\u001b[0mcopy\u001b[0m\u001b[1;33m,\u001b[0m \u001b[0merrors\u001b[0m\u001b[1;33m=\u001b[0m\u001b[0merrors\u001b[0m\u001b[1;33m)\u001b[0m\u001b[1;33m\u001b[0m\u001b[1;33m\u001b[0m\u001b[0m\n\u001b[0m\u001b[0;32m   5699\u001b[0m             \u001b[1;32mreturn\u001b[0m \u001b[0mself\u001b[0m\u001b[1;33m.\u001b[0m\u001b[0m_constructor\u001b[0m\u001b[1;33m(\u001b[0m\u001b[0mnew_data\u001b[0m\u001b[1;33m)\u001b[0m\u001b[1;33m.\u001b[0m\u001b[0m__finalize__\u001b[0m\u001b[1;33m(\u001b[0m\u001b[0mself\u001b[0m\u001b[1;33m)\u001b[0m\u001b[1;33m\u001b[0m\u001b[1;33m\u001b[0m\u001b[0m\n\u001b[0;32m   5700\u001b[0m \u001b[1;33m\u001b[0m\u001b[0m\n",
      "\u001b[1;32m~\\anaconda3\\lib\\site-packages\\pandas\\core\\internals\\managers.py\u001b[0m in \u001b[0;36mastype\u001b[1;34m(self, dtype, copy, errors)\u001b[0m\n\u001b[0;32m    580\u001b[0m \u001b[1;33m\u001b[0m\u001b[0m\n\u001b[0;32m    581\u001b[0m     \u001b[1;32mdef\u001b[0m \u001b[0mastype\u001b[0m\u001b[1;33m(\u001b[0m\u001b[0mself\u001b[0m\u001b[1;33m,\u001b[0m \u001b[0mdtype\u001b[0m\u001b[1;33m,\u001b[0m \u001b[0mcopy\u001b[0m\u001b[1;33m:\u001b[0m \u001b[0mbool\u001b[0m \u001b[1;33m=\u001b[0m \u001b[1;32mFalse\u001b[0m\u001b[1;33m,\u001b[0m \u001b[0merrors\u001b[0m\u001b[1;33m:\u001b[0m \u001b[0mstr\u001b[0m \u001b[1;33m=\u001b[0m \u001b[1;34m\"raise\"\u001b[0m\u001b[1;33m)\u001b[0m\u001b[1;33m:\u001b[0m\u001b[1;33m\u001b[0m\u001b[1;33m\u001b[0m\u001b[0m\n\u001b[1;32m--> 582\u001b[1;33m         \u001b[1;32mreturn\u001b[0m \u001b[0mself\u001b[0m\u001b[1;33m.\u001b[0m\u001b[0mapply\u001b[0m\u001b[1;33m(\u001b[0m\u001b[1;34m\"astype\"\u001b[0m\u001b[1;33m,\u001b[0m \u001b[0mdtype\u001b[0m\u001b[1;33m=\u001b[0m\u001b[0mdtype\u001b[0m\u001b[1;33m,\u001b[0m \u001b[0mcopy\u001b[0m\u001b[1;33m=\u001b[0m\u001b[0mcopy\u001b[0m\u001b[1;33m,\u001b[0m \u001b[0merrors\u001b[0m\u001b[1;33m=\u001b[0m\u001b[0merrors\u001b[0m\u001b[1;33m)\u001b[0m\u001b[1;33m\u001b[0m\u001b[1;33m\u001b[0m\u001b[0m\n\u001b[0m\u001b[0;32m    583\u001b[0m \u001b[1;33m\u001b[0m\u001b[0m\n\u001b[0;32m    584\u001b[0m     \u001b[1;32mdef\u001b[0m \u001b[0mconvert\u001b[0m\u001b[1;33m(\u001b[0m\u001b[0mself\u001b[0m\u001b[1;33m,\u001b[0m \u001b[1;33m**\u001b[0m\u001b[0mkwargs\u001b[0m\u001b[1;33m)\u001b[0m\u001b[1;33m:\u001b[0m\u001b[1;33m\u001b[0m\u001b[1;33m\u001b[0m\u001b[0m\n",
      "\u001b[1;32m~\\anaconda3\\lib\\site-packages\\pandas\\core\\internals\\managers.py\u001b[0m in \u001b[0;36mapply\u001b[1;34m(self, f, filter, **kwargs)\u001b[0m\n\u001b[0;32m    440\u001b[0m                 \u001b[0mapplied\u001b[0m \u001b[1;33m=\u001b[0m \u001b[0mb\u001b[0m\u001b[1;33m.\u001b[0m\u001b[0mapply\u001b[0m\u001b[1;33m(\u001b[0m\u001b[0mf\u001b[0m\u001b[1;33m,\u001b[0m \u001b[1;33m**\u001b[0m\u001b[0mkwargs\u001b[0m\u001b[1;33m)\u001b[0m\u001b[1;33m\u001b[0m\u001b[1;33m\u001b[0m\u001b[0m\n\u001b[0;32m    441\u001b[0m             \u001b[1;32melse\u001b[0m\u001b[1;33m:\u001b[0m\u001b[1;33m\u001b[0m\u001b[1;33m\u001b[0m\u001b[0m\n\u001b[1;32m--> 442\u001b[1;33m                 \u001b[0mapplied\u001b[0m \u001b[1;33m=\u001b[0m \u001b[0mgetattr\u001b[0m\u001b[1;33m(\u001b[0m\u001b[0mb\u001b[0m\u001b[1;33m,\u001b[0m \u001b[0mf\u001b[0m\u001b[1;33m)\u001b[0m\u001b[1;33m(\u001b[0m\u001b[1;33m**\u001b[0m\u001b[0mkwargs\u001b[0m\u001b[1;33m)\u001b[0m\u001b[1;33m\u001b[0m\u001b[1;33m\u001b[0m\u001b[0m\n\u001b[0m\u001b[0;32m    443\u001b[0m             \u001b[0mresult_blocks\u001b[0m \u001b[1;33m=\u001b[0m \u001b[0m_extend_blocks\u001b[0m\u001b[1;33m(\u001b[0m\u001b[0mapplied\u001b[0m\u001b[1;33m,\u001b[0m \u001b[0mresult_blocks\u001b[0m\u001b[1;33m)\u001b[0m\u001b[1;33m\u001b[0m\u001b[1;33m\u001b[0m\u001b[0m\n\u001b[0;32m    444\u001b[0m \u001b[1;33m\u001b[0m\u001b[0m\n",
      "\u001b[1;32m~\\anaconda3\\lib\\site-packages\\pandas\\core\\internals\\blocks.py\u001b[0m in \u001b[0;36mastype\u001b[1;34m(self, dtype, copy, errors)\u001b[0m\n\u001b[0;32m    623\u001b[0m             \u001b[0mvals1d\u001b[0m \u001b[1;33m=\u001b[0m \u001b[0mvalues\u001b[0m\u001b[1;33m.\u001b[0m\u001b[0mravel\u001b[0m\u001b[1;33m(\u001b[0m\u001b[1;33m)\u001b[0m\u001b[1;33m\u001b[0m\u001b[1;33m\u001b[0m\u001b[0m\n\u001b[0;32m    624\u001b[0m             \u001b[1;32mtry\u001b[0m\u001b[1;33m:\u001b[0m\u001b[1;33m\u001b[0m\u001b[1;33m\u001b[0m\u001b[0m\n\u001b[1;32m--> 625\u001b[1;33m                 \u001b[0mvalues\u001b[0m \u001b[1;33m=\u001b[0m \u001b[0mastype_nansafe\u001b[0m\u001b[1;33m(\u001b[0m\u001b[0mvals1d\u001b[0m\u001b[1;33m,\u001b[0m \u001b[0mdtype\u001b[0m\u001b[1;33m,\u001b[0m \u001b[0mcopy\u001b[0m\u001b[1;33m=\u001b[0m\u001b[1;32mTrue\u001b[0m\u001b[1;33m)\u001b[0m\u001b[1;33m\u001b[0m\u001b[1;33m\u001b[0m\u001b[0m\n\u001b[0m\u001b[0;32m    626\u001b[0m             \u001b[1;32mexcept\u001b[0m \u001b[1;33m(\u001b[0m\u001b[0mValueError\u001b[0m\u001b[1;33m,\u001b[0m \u001b[0mTypeError\u001b[0m\u001b[1;33m)\u001b[0m\u001b[1;33m:\u001b[0m\u001b[1;33m\u001b[0m\u001b[1;33m\u001b[0m\u001b[0m\n\u001b[0;32m    627\u001b[0m                 \u001b[1;31m# e.g. astype_nansafe can fail on object-dtype of strings\u001b[0m\u001b[1;33m\u001b[0m\u001b[1;33m\u001b[0m\u001b[1;33m\u001b[0m\u001b[0m\n",
      "\u001b[1;32m~\\anaconda3\\lib\\site-packages\\pandas\\core\\dtypes\\cast.py\u001b[0m in \u001b[0;36mastype_nansafe\u001b[1;34m(arr, dtype, copy, skipna)\u001b[0m\n\u001b[0;32m    872\u001b[0m         \u001b[1;31m# work around NumPy brokenness, #1987\u001b[0m\u001b[1;33m\u001b[0m\u001b[1;33m\u001b[0m\u001b[1;33m\u001b[0m\u001b[0m\n\u001b[0;32m    873\u001b[0m         \u001b[1;32mif\u001b[0m \u001b[0mnp\u001b[0m\u001b[1;33m.\u001b[0m\u001b[0missubdtype\u001b[0m\u001b[1;33m(\u001b[0m\u001b[0mdtype\u001b[0m\u001b[1;33m.\u001b[0m\u001b[0mtype\u001b[0m\u001b[1;33m,\u001b[0m \u001b[0mnp\u001b[0m\u001b[1;33m.\u001b[0m\u001b[0minteger\u001b[0m\u001b[1;33m)\u001b[0m\u001b[1;33m:\u001b[0m\u001b[1;33m\u001b[0m\u001b[1;33m\u001b[0m\u001b[0m\n\u001b[1;32m--> 874\u001b[1;33m             \u001b[1;32mreturn\u001b[0m \u001b[0mlib\u001b[0m\u001b[1;33m.\u001b[0m\u001b[0mastype_intsafe\u001b[0m\u001b[1;33m(\u001b[0m\u001b[0marr\u001b[0m\u001b[1;33m.\u001b[0m\u001b[0mravel\u001b[0m\u001b[1;33m(\u001b[0m\u001b[1;33m)\u001b[0m\u001b[1;33m,\u001b[0m \u001b[0mdtype\u001b[0m\u001b[1;33m)\u001b[0m\u001b[1;33m.\u001b[0m\u001b[0mreshape\u001b[0m\u001b[1;33m(\u001b[0m\u001b[0marr\u001b[0m\u001b[1;33m.\u001b[0m\u001b[0mshape\u001b[0m\u001b[1;33m)\u001b[0m\u001b[1;33m\u001b[0m\u001b[1;33m\u001b[0m\u001b[0m\n\u001b[0m\u001b[0;32m    875\u001b[0m \u001b[1;33m\u001b[0m\u001b[0m\n\u001b[0;32m    876\u001b[0m         \u001b[1;31m# if we have a datetime/timedelta array of objects\u001b[0m\u001b[1;33m\u001b[0m\u001b[1;33m\u001b[0m\u001b[1;33m\u001b[0m\u001b[0m\n",
      "\u001b[1;32mpandas\\_libs\\lib.pyx\u001b[0m in \u001b[0;36mpandas._libs.lib.astype_intsafe\u001b[1;34m()\u001b[0m\n",
      "\u001b[1;31mValueError\u001b[0m: invalid literal for int() with base 10: '1.0'"
     ]
    }
   ],
   "source": [
    "dataframe[\"Sr.No.\"]=dataframe[\"Sr.No.\"].astype(int)"
   ]
  },
  {
   "cell_type": "code",
   "execution_count": 164,
   "metadata": {},
   "outputs": [
    {
     "name": "stdout",
     "output_type": "stream",
     "text": [
      "[4095 4156 8956]\n"
     ]
    }
   ],
   "source": [
    "print(dataframe[dataframe[\"Sr.No.\"]==\"2.0\"].index.values)"
   ]
  },
  {
   "cell_type": "code",
   "execution_count": 6,
   "metadata": {},
   "outputs": [
    {
     "data": {
      "text/html": [
       "<div>\n",
       "<style scoped>\n",
       "    .dataframe tbody tr th:only-of-type {\n",
       "        vertical-align: middle;\n",
       "    }\n",
       "\n",
       "    .dataframe tbody tr th {\n",
       "        vertical-align: top;\n",
       "    }\n",
       "\n",
       "    .dataframe thead th {\n",
       "        text-align: right;\n",
       "    }\n",
       "</style>\n",
       "<table border=\"1\" class=\"dataframe\">\n",
       "  <thead>\n",
       "    <tr style=\"text-align: right;\">\n",
       "      <th></th>\n",
       "      <th>Unnamed: 0</th>\n",
       "      <th>Sr.No.</th>\n",
       "      <th>Merit No</th>\n",
       "      <th>Marks</th>\n",
       "      <th>Application ID</th>\n",
       "      <th>Name of Candidate</th>\n",
       "      <th>Gender</th>\n",
       "      <th>Category</th>\n",
       "      <th>PWD/DEF</th>\n",
       "      <th>Sub Group</th>\n",
       "      <th>Seat Type</th>\n",
       "      <th>cource_code</th>\n",
       "      <th>college_code</th>\n",
       "    </tr>\n",
       "  </thead>\n",
       "  <tbody>\n",
       "    <tr>\n",
       "      <th>4094</th>\n",
       "      <td>4094</td>\n",
       "      <td>1.0</td>\n",
       "      <td>3940.0</td>\n",
       "      <td>85.64%</td>\n",
       "      <td>DSE19106379</td>\n",
       "      <td>SHINDE PADMAJA GANESH</td>\n",
       "      <td>F</td>\n",
       "      <td>SEBC</td>\n",
       "      <td>NaN</td>\n",
       "      <td>201.0</td>\n",
       "      <td>LOPEN</td>\n",
       "      <td>201</td>\n",
       "      <td>3447</td>\n",
       "    </tr>\n",
       "    <tr>\n",
       "      <th>4095</th>\n",
       "      <td>4095</td>\n",
       "      <td>2.0</td>\n",
       "      <td>9603.0</td>\n",
       "      <td>80.30%</td>\n",
       "      <td>DSE19137667</td>\n",
       "      <td>DALVI ASHWITA NARENDRA</td>\n",
       "      <td>F</td>\n",
       "      <td>OBC</td>\n",
       "      <td>NaN</td>\n",
       "      <td>201.0</td>\n",
       "      <td>LOPEN</td>\n",
       "      <td>201</td>\n",
       "      <td>3447</td>\n",
       "    </tr>\n",
       "    <tr>\n",
       "      <th>4096</th>\n",
       "      <td>4096</td>\n",
       "      <td>3.0</td>\n",
       "      <td>10120.0</td>\n",
       "      <td>79.88%</td>\n",
       "      <td>DSE19129396</td>\n",
       "      <td>PATIL ADITI RAJENDRA</td>\n",
       "      <td>F</td>\n",
       "      <td>OBC</td>\n",
       "      <td>NaN</td>\n",
       "      <td>201.0</td>\n",
       "      <td>LOPEN</td>\n",
       "      <td>201</td>\n",
       "      <td>3447</td>\n",
       "    </tr>\n",
       "    <tr>\n",
       "      <th>4097</th>\n",
       "      <td>4097</td>\n",
       "      <td>4.0</td>\n",
       "      <td>23967.0</td>\n",
       "      <td>71.39%</td>\n",
       "      <td>DSE19115389</td>\n",
       "      <td>GAIKWAD KUNAL SUDHAKAR</td>\n",
       "      <td>M</td>\n",
       "      <td>OBC</td>\n",
       "      <td>NaN</td>\n",
       "      <td>201.0</td>\n",
       "      <td>GOPEN</td>\n",
       "      <td>201</td>\n",
       "      <td>3447</td>\n",
       "    </tr>\n",
       "    <tr>\n",
       "      <th>4098</th>\n",
       "      <td>4098</td>\n",
       "      <td>5.0</td>\n",
       "      <td>26231.0</td>\n",
       "      <td>70.30%</td>\n",
       "      <td>DSE19115310</td>\n",
       "      <td>DESHMUKH SANKET HARIBHAU</td>\n",
       "      <td>M</td>\n",
       "      <td>SEBC</td>\n",
       "      <td>NaN</td>\n",
       "      <td>201.0</td>\n",
       "      <td>GOPEN</td>\n",
       "      <td>201</td>\n",
       "      <td>3447</td>\n",
       "    </tr>\n",
       "  </tbody>\n",
       "</table>\n",
       "</div>"
      ],
      "text/plain": [
       "      Unnamed: 0 Sr.No. Merit No   Marks Application ID  \\\n",
       "4094        4094    1.0   3940.0  85.64%    DSE19106379   \n",
       "4095        4095    2.0   9603.0  80.30%    DSE19137667   \n",
       "4096        4096    3.0  10120.0  79.88%    DSE19129396   \n",
       "4097        4097    4.0  23967.0  71.39%    DSE19115389   \n",
       "4098        4098    5.0  26231.0  70.30%    DSE19115310   \n",
       "\n",
       "             Name of Candidate Gender Category PWD/DEF Sub Group Seat Type  \\\n",
       "4094     SHINDE PADMAJA GANESH      F     SEBC     NaN     201.0     LOPEN   \n",
       "4095    DALVI ASHWITA NARENDRA      F      OBC     NaN     201.0     LOPEN   \n",
       "4096      PATIL ADITI RAJENDRA      F      OBC     NaN     201.0     LOPEN   \n",
       "4097    GAIKWAD KUNAL SUDHAKAR      M      OBC     NaN     201.0     GOPEN   \n",
       "4098  DESHMUKH SANKET HARIBHAU      M     SEBC     NaN     201.0     GOPEN   \n",
       "\n",
       "      cource_code  college_code  \n",
       "4094          201          3447  \n",
       "4095          201          3447  \n",
       "4096          201          3447  \n",
       "4097          201          3447  \n",
       "4098          201          3447  "
      ]
     },
     "execution_count": 6,
     "metadata": {},
     "output_type": "execute_result"
    }
   ],
   "source": [
    "dataframe.iloc[4094:4099]"
   ]
  },
  {
   "cell_type": "code",
   "execution_count": null,
   "metadata": {},
   "outputs": [],
   "source": []
  }
 ],
 "metadata": {
  "kernelspec": {
   "display_name": "Python 3",
   "language": "python",
   "name": "python3"
  },
  "language_info": {
   "codemirror_mode": {
    "name": "ipython",
    "version": 3
   },
   "file_extension": ".py",
   "mimetype": "text/x-python",
   "name": "python",
   "nbconvert_exporter": "python",
   "pygments_lexer": "ipython3",
   "version": "3.7.6"
  }
 },
 "nbformat": 4,
 "nbformat_minor": 4
}
